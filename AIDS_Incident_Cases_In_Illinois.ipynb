{
 "cells": [
  {
   "cell_type": "markdown",
   "id": "10c514b3-b947-47c6-8a15-f10a1a40cc3e",
   "metadata": {},
   "source": [
    "# AIDS Incident Cases In Illinois Department of Publich Health\n",
    "A dataset that is extracted real time from a website, saved as csv format, Uploaded to the sql database for storage.\n",
    "This data is based on AIDS cases on the Illinois department of Public Health. It has 3 tables.\n",
    "1) Aids cases on every county\n",
    "2) Highest county Aids Cases breakdown\n",
    "3) Second Highest County Aids Cases Breakdown"
   ]
  },
  {
   "cell_type": "code",
   "execution_count": 2,
   "id": "3a3039a0-f69a-488a-a861-4b3584153b08",
   "metadata": {},
   "outputs": [
    {
     "data": {
      "text/html": [
       "        <script type=\"text/javascript\">\n",
       "        window.PlotlyConfig = {MathJaxConfig: 'local'};\n",
       "        if (window.MathJax && window.MathJax.Hub && window.MathJax.Hub.Config) {window.MathJax.Hub.Config({SVG: {font: \"STIX-Web\"}});}\n",
       "        if (typeof require !== 'undefined') {\n",
       "        require.undef(\"plotly\");\n",
       "        requirejs.config({\n",
       "            paths: {\n",
       "                'plotly': ['https://cdn.plot.ly/plotly-2.35.2.min']\n",
       "            }\n",
       "        });\n",
       "        require(['plotly'], function(Plotly) {\n",
       "            window._Plotly = Plotly;\n",
       "        });\n",
       "        }\n",
       "        </script>\n",
       "        "
      ]
     },
     "metadata": {},
     "output_type": "display_data"
    }
   ],
   "source": [
    "import time\n",
    "import csv\n",
    "import mysql.connector\n",
    "from selenium import webdriver\n",
    "from selenium.webdriver.common.by import By\n",
    "from selenium.common import NoSuchElementException\n",
    "from selenium.webdriver.support.wait import WebDriverWait\n",
    "from selenium.webdriver.support import expected_conditions as EC\n",
    "import pandas as pd\n",
    "import matplotlib.pyplot as plt\n",
    "import seaborn as sns\n",
    "import plotly.express as px\n",
    "import plotly.graph_objects as go\n",
    "plt.style.use('seaborn-v0_8-notebook')\n",
    "from dash import Dash, dcc, html, Input, Output\n",
    "%matplotlib inline\n",
    "from jupyter_datatables import init_datatables_mode\n",
    "from plotly.offline import download_plotlyjs, plot, init_notebook_mode,iplot\n",
    "init_notebook_mode(connected=True)"
   ]
  },
  {
   "cell_type": "code",
   "execution_count": 222,
   "id": "2a806456-85a6-4b59-af02-8ba8da1b6c39",
   "metadata": {},
   "outputs": [
    {
     "name": "stdout",
     "output_type": "stream",
     "text": [
      "No Of entries: 104\n",
      "['Adams', '0', '6', '1.25']\n",
      "['Alexander', '0', '2', '3.6']\n",
      "['Bond', '0', '1', '0.79']\n",
      "['Boone', '1', '3', '0.78']\n",
      "['Brown', '0', '1', '2.02']\n",
      "['Bureau', '0', '1', '0.41']\n",
      "['Calhoun', '0', '0', '0']\n",
      "['Carroll', '0', '0', '0']\n",
      "['Cass', '0', '2', '2.09']\n",
      "['Champaign', '0', '45', '3.09']\n",
      "['Christian', '0', '4', '1.61']\n",
      "['Clark', '0', '0', '0']\n",
      "['Clay', '0', '2', '2.03']\n",
      "['Clinton', '0', '3', '1.1']\n",
      "['Coles', '0', '3', '0.78']\n",
      "['Cook', '46', '2898', '7.73']\n",
      "['Crawford', '0', '4', '2.85']\n",
      "['Cumberland', '0', '1', '1.27']\n",
      "['DeKalb', '2', '17', '2.27']\n",
      "['De Witt', '0', '2', '1.7']\n",
      "['Douglas', '0', '0', '0']\n",
      "['DuPage', '2', '100', '1.5']\n",
      "['Edgar', '0', '0', '0']\n",
      "['Edwards', '0', '0', '0']\n",
      "['Effingham', '2', '5', '2.03']\n",
      "['Fayette', '1', '7', '4.44']\n",
      "['Ford', '0', '0', '0']\n",
      "['Franklin', '0', '9', '3.19']\n",
      "['Fulton', '0', '6', '2.28']\n",
      "['Gallatin', '0', '1', '2.57']\n",
      "['Greene', '1', '1', '1.03']\n",
      "['Grundy', '0', '3', '0.83']\n",
      "['Hamilton', '0', '1', '1.67']\n",
      "['Hancock', '0', '1', '0.74']\n",
      "['Hardin', '0', '2', '6.55']\n",
      "['Henderson', '0', '0', '0']\n",
      "['Henry', '0', '8', '2.23']\n",
      "['Iroquois', '0', '4', '1.91']\n",
      "['Jackson', '0', '13', '3.02']\n",
      "['Jasper', '0', '1', '1.45']\n",
      "['Jefferson', '1', '3', '1.08']\n",
      "['Jersey', '0', '2', '1.23']\n",
      "['Jo Daviess', '0', '2', '1.24']\n",
      "['Johnson', '1', '8', '8.75']\n",
      "['Kane', '2', '78', '2.08']\n",
      "['Kankakee', '0', '26', '3.21']\n",
      "['Kendall', '0', '10', '1.18']\n",
      "['Knox', '0', '14', '3.74']\n",
      "['Lake', '2', '122', '2.42']\n",
      "['LaSalle', '0', '13', '1.61']\n",
      "['Lawrence', '0', '3', '2.52']\n",
      "['Lee', '1', '10', '3.98']\n",
      "['Livingston', '0', '10', '3.61']\n",
      "['Logan', '0', '3', '1.39']\n",
      "['McDonough', '0', '2', '0.86']\n",
      "['McHenry', '0', '25', '1.13']\n",
      "['McLean', '1', '25', '2.02']\n",
      "['Macon', '2', '35', '4.43']\n",
      "['Macoupin', '0', '3', '0.89']\n",
      "['Madison', '2', '54', '2.81']\n",
      "['Marion', '1', '6', '2.15']\n",
      "['Marshall', '0', '0', '0']\n",
      "['Mason', '0', '1', '0.97']\n",
      "['Massac', '0', '1', '0.92']\n",
      "['Menard', '0', '1', '1.1']\n",
      "['Mercer', '0', '2', '1.72']\n",
      "['Monroe', '0', '1', '0.42']\n",
      "['Montgomery', '1', '7', '3.3']\n",
      "['Morgan', '0', '5', '1.98']\n",
      "['Moultrie', '0', '2', '1.87']\n",
      "['Ogle', '1', '8', '2.11']\n",
      "['Peoria', '1', '55', '4.1']\n",
      "['Perry', '1', '9', '5.69']\n",
      "['Piatt', '0', '0', '0']\n",
      "['Pike', '0', '0', '0']\n",
      "['Pope', '0', '1', '3.27']\n",
      "['Pulaski', '0', '1', '2.33']\n",
      "['Putnam', '0', '0', '0']\n",
      "['Randolph', '0', '7', '2.96']\n",
      "['Richland', '0', '1', '0.86']\n",
      "['Rock Island', '1', '31', '2.93']\n",
      "['St. Clair', '1', '116', '6.02']\n",
      "['Saline', '0', '3', '1.68']\n",
      "['Sangamon', '0', '35', '2.45']\n",
      "['Schuyler', '0', '0', '0']\n",
      "['Scott', '0', '0', '0']\n",
      "['Shelby', '0', '1', '0.63']\n",
      "['Stark', '0', '0', '0']\n",
      "['Stephenson', '0', '13', '3.86']\n",
      "['Tazewell', '0', '6', '0.62']\n",
      "['Union', '0', '0', '0']\n",
      "['Vermilion', '0', '29', '5.01']\n",
      "['Wabash', '0', '0', '0']\n",
      "['Warren', '0', '1', '0.79']\n",
      "['Washington', '0', '1', '0.96']\n",
      "['Wayne', '0', '0', '0']\n",
      "['White', '0', '2', '1.92']\n",
      "['Whiteside', '0', '4', '0.96']\n",
      "['Will', '1', '105', '2.15']\n",
      "['Williamson', '0', '4', '0.84']\n",
      "['Winnebago', '1', '61', '2.91']\n",
      "['Woodford', '0', '3', '1.07']\n",
      "['Unknown', '0', '1', '']\n",
      "['Illinois', '76', '4129', '4.47']\n",
      "\n",
      "Data successfully Saved as Csv!\n"
     ]
    }
   ],
   "source": [
    "# Using selenium to extract real time data for the Aids cases on every county\n",
    "driver = webdriver.Chrome()\n",
    "driver.maximize_window\n",
    "driver.get(\n",
    "    url='https://dph.illinois.gov/topics-services/diseases-and-conditions/hiv-aids/hiv-surveillance/update-reports/2023/february.html')\n",
    "\n",
    "# waiting for table to load\n",
    "TableWait = WebDriverWait(driver, 10)\n",
    "Table = TableWait.until(EC.presence_of_element_located((By.XPATH, \"//table[@id='DataTables_Table_10']\")))\n",
    "\n",
    "# get the number of pages on the table\n",
    "table_text = driver.find_element(By.CSS_SELECTOR, '#DataTables_Table_10_info').text\n",
    "start_index = table_text.find('of') + 3\n",
    "last_index = table_text.find('entries') - 1\n",
    "No_entries =int(table_text[start_index:last_index].strip())\n",
    "print(f\"No Of entries: {No_entries}\")\n",
    "\n",
    "data=[]\n",
    "for No_entries in range(1, No_entries +1):\n",
    "    try:\n",
    "        Table = TableWait.until(EC.presence_of_element_located((By.XPATH, \"//table[@id='DataTables_Table_10']\")))\n",
    "        \n",
    "        # finding elements on the table\n",
    "        DataRow = Table.find_elements(By.XPATH, \".//tbody/tr\")\n",
    "        for _ in DataRow:\n",
    "            cells = _.find_elements(By.XPATH, \".//td\")\n",
    "            row = [cell.text for cell in cells]\n",
    "            data.append(row)\n",
    "\n",
    "        # checking if the last entry on the table is Illinois\n",
    "        if any('Illinois' in DataRow for DataRow in data):\n",
    "            break\n",
    "\n",
    "        # next element button\n",
    "        next_element = driver.find_element(By.XPATH, \"//a[@id='DataTables_Table_10_next']\")\n",
    "        if 'disabled' in next_element.get_attribute('class'):\n",
    "            break\n",
    "        next_element.click()\n",
    "\n",
    "        time.sleep(10)\n",
    "\n",
    "    except NoSuchElementException as e:\n",
    "        print(f'Error: {e}')\n",
    "        break\n",
    "        \n",
    "for row in data:\n",
    "    print(row)\n",
    "        \n",
    "time.sleep(20)\n",
    "driver.quit()\n",
    "\n",
    "# saving the data to csv\n",
    "with open('Aids_Incident_Cases_In_Illinois.csv', 'w', newline='', encoding='utf-8') as file:\n",
    "    writer = csv.writer(file)\n",
    "    if data:\n",
    "        writer.writerow(['County', 'Cases Diagnosed As Of 2/28/2023', \n",
    "                         'Cumulative Cases Diagnosed Since 2016', '2016-2023 AIDS Diagnosis Rate'])\n",
    "    writer.writerows(data)\n",
    "\n",
    "print()\n",
    "print('Data successfully Saved as Csv!')"
   ]
  },
  {
   "cell_type": "code",
   "execution_count": 9,
   "id": "1e8a49b7-4b79-47b0-801f-8c4e47902994",
   "metadata": {},
   "outputs": [
    {
     "name": "stdout",
     "output_type": "stream",
     "text": [
      "No of Rows: 5\n",
      "['Chicago Health Dept.', '40', '2177']\n",
      "['Cook Co. Health Dept.', '6', '677']\n",
      "['Evanston Health Dept.', '0', '21']\n",
      "['Oak Park Health Dept.', '0', '13']\n",
      "['Skokie Health Dept.', '0', '10']\n",
      "Data saved to csv format successfully\n"
     ]
    }
   ],
   "source": [
    "# Using selenium to extract real time data for the Highest county Aids cases breakdown\n",
    "browser = webdriver.Chrome()\n",
    "browser.maximize_window\n",
    "browser.get(\n",
    "    url='https://dph.illinois.gov/topics-services/diseases-and-conditions/hiv-aids/hiv-surveillance/update-reports/2023/february.html')\n",
    "\n",
    "# getting the table details\n",
    "tabledetails = browser.find_element(By.ID, \"DataTables_Table_2_wrapper\")\n",
    "rowdetails = tabledetails.find_elements(By.XPATH, \".//tbody/tr\")\n",
    "row_count = len(rowdetails)\n",
    "print(f'No of Rows: {row_count}')\n",
    "\n",
    "data = []\n",
    "for _ in rowdetails:\n",
    "    cells =_.find_elements(By.XPATH, \".//td\")\n",
    "    row_cell =[cell.text for cell in cells]\n",
    "    data.append(row_cell)\n",
    "\n",
    "for row in data:\n",
    "    print(row)\n",
    "\n",
    "# Saving the data on a csv file\n",
    "with open('Highest county Aids cases breakdown.csv', 'w', newline='', encoding='utf-8') as f:\n",
    "    writer = csv.writer(f)\n",
    "    if data:\n",
    "        writer.writerow(['Health Department', 'Cases Diagnosed As Of 2/28/2023', 'Cumulative Cases Diagnosed Since 2016'])\n",
    "    writer.writerows(data)\n",
    "print('Data saved to csv format successfully')    "
   ]
  },
  {
   "cell_type": "code",
   "execution_count": 4,
   "id": "c81fbddf-549e-4cbd-a135-05f13b69612a",
   "metadata": {},
   "outputs": [
    {
     "name": "stdout",
     "output_type": "stream",
     "text": [
      "No of Rows: 2\n",
      "['East Side Health District', '0', '12']\n",
      "['St. Clair Co. Health Dept.', '1', '104']\n",
      "\n",
      "Data successfully saved\n"
     ]
    }
   ],
   "source": [
    "# Table 3 data Extraction using selenium\n",
    "browser = webdriver.Chrome()\n",
    "browser.maximize_window()\n",
    "browser.get(\n",
    "    url='https://dph.illinois.gov/topics-services/diseases-and-conditions/hiv-aids/hiv-surveillance/update-reports/2023/february.html'\n",
    ")\n",
    "Table3 = browser.find_element(By.CSS_SELECTOR, \"#DataTables_Table_3_wrapper\")\n",
    "rows = Table3.find_elements(By.XPATH, \".//tbody/tr\")\n",
    "row_count = len(rows)\n",
    "print(f'No of Rows: {row_count}')\n",
    "\n",
    "# iterating over the table rows to obtain the data\n",
    "data = []\n",
    "for _ in rows:\n",
    "    cell = _.find_elements(By.XPATH, \".//td\")\n",
    "    row_cell = [cells.text for cells in cell]\n",
    "    data.append(row_cell)\n",
    "    \n",
    "for table in data:\n",
    "    print(table)\n",
    "\n",
    "with open('Second Highest County Aids Cases Breakdown.csv', 'w', newline='', encoding='utf-8') as file:\n",
    "    writer = csv.writer(file)\n",
    "    if data:\n",
    "        writer.writerow(['Health Department','Cases Diagnosed As Of 2/28/2023', 'Cumulative Cases Diagnosed Since 2016'])\n",
    "    writer.writerows(data)\n",
    "print()\n",
    "print('Data successfully saved')\n",
    "\n",
    "time.sleep(10)\n",
    "browser.quit()\n"
   ]
  },
  {
   "cell_type": "code",
   "execution_count": null,
   "id": "d886addb-bbb7-4a0d-9322-6ba2745a76a0",
   "metadata": {},
   "outputs": [],
   "source": []
  },
  {
   "cell_type": "markdown",
   "id": "372ad29c-77fe-4306-ab60-912e94709d63",
   "metadata": {},
   "source": [
    "# Extrapolatory Data Analysis\n",
    "    # Tasks\n",
    "- Opening each of the files saved as csv and finding insight and relation between the table data\n",
    "- cleaning the data by removing duplicates\n",
    "- replacing Null values\n",
    "- standardization of the data and data types"
   ]
  },
  {
   "cell_type": "code",
   "execution_count": 10,
   "id": "5b670da5-3d10-4e59-84e9-71bcd9fb808a",
   "metadata": {},
   "outputs": [],
   "source": [
    "df = pd.read_csv('Aids_Incident_Cases_In_Illinois.csv')\n",
    "df1_copy = df.copy()"
   ]
  },
  {
   "cell_type": "code",
   "execution_count": null,
   "id": "7cefb1b6-52b4-4e32-8969-965a0693d9ec",
   "metadata": {},
   "outputs": [],
   "source": [
    "# display all the rows on the dataset\n",
    "pd.set_option('display.Max_rows',None)"
   ]
  },
  {
   "cell_type": "code",
   "execution_count": 12,
   "id": "3da39901-f482-46a7-b731-73b93949465d",
   "metadata": {},
   "outputs": [
    {
     "data": {
      "text/html": [
       "<div>\n",
       "<style scoped>\n",
       "    .dataframe tbody tr th:only-of-type {\n",
       "        vertical-align: middle;\n",
       "    }\n",
       "\n",
       "    .dataframe tbody tr th {\n",
       "        vertical-align: top;\n",
       "    }\n",
       "\n",
       "    .dataframe thead th {\n",
       "        text-align: right;\n",
       "    }\n",
       "</style>\n",
       "<table border=\"1\" class=\"dataframe\">\n",
       "  <thead>\n",
       "    <tr style=\"text-align: right;\">\n",
       "      <th></th>\n",
       "      <th>Cases Diagnosed As Of 2/28/2023</th>\n",
       "      <th>Cumulative Cases Diagnosed Since 2016</th>\n",
       "      <th>2016-2023 AIDS Diagnosis Rate</th>\n",
       "    </tr>\n",
       "  </thead>\n",
       "  <tbody>\n",
       "    <tr>\n",
       "      <th>count</th>\n",
       "      <td>104.000000</td>\n",
       "      <td>104.000000</td>\n",
       "      <td>103.000000</td>\n",
       "    </tr>\n",
       "    <tr>\n",
       "      <th>mean</th>\n",
       "      <td>1.461538</td>\n",
       "      <td>79.403846</td>\n",
       "      <td>1.903010</td>\n",
       "    </tr>\n",
       "    <tr>\n",
       "      <th>std</th>\n",
       "      <td>8.654000</td>\n",
       "      <td>491.351050</td>\n",
       "      <td>1.707835</td>\n",
       "    </tr>\n",
       "    <tr>\n",
       "      <th>min</th>\n",
       "      <td>0.000000</td>\n",
       "      <td>0.000000</td>\n",
       "      <td>0.000000</td>\n",
       "    </tr>\n",
       "    <tr>\n",
       "      <th>25%</th>\n",
       "      <td>0.000000</td>\n",
       "      <td>1.000000</td>\n",
       "      <td>0.790000</td>\n",
       "    </tr>\n",
       "    <tr>\n",
       "      <th>50%</th>\n",
       "      <td>0.000000</td>\n",
       "      <td>3.000000</td>\n",
       "      <td>1.610000</td>\n",
       "    </tr>\n",
       "    <tr>\n",
       "      <th>75%</th>\n",
       "      <td>0.000000</td>\n",
       "      <td>9.250000</td>\n",
       "      <td>2.690000</td>\n",
       "    </tr>\n",
       "    <tr>\n",
       "      <th>max</th>\n",
       "      <td>76.000000</td>\n",
       "      <td>4129.000000</td>\n",
       "      <td>8.750000</td>\n",
       "    </tr>\n",
       "  </tbody>\n",
       "</table>\n",
       "</div>"
      ],
      "text/plain": [
       "       Cases Diagnosed As Of 2/28/2023  Cumulative Cases Diagnosed Since 2016  \\\n",
       "count                       104.000000                             104.000000   \n",
       "mean                          1.461538                              79.403846   \n",
       "std                           8.654000                             491.351050   \n",
       "min                           0.000000                               0.000000   \n",
       "25%                           0.000000                               1.000000   \n",
       "50%                           0.000000                               3.000000   \n",
       "75%                           0.000000                               9.250000   \n",
       "max                          76.000000                            4129.000000   \n",
       "\n",
       "       2016-2023 AIDS Diagnosis Rate  \n",
       "count                     103.000000  \n",
       "mean                        1.903010  \n",
       "std                         1.707835  \n",
       "min                         0.000000  \n",
       "25%                         0.790000  \n",
       "50%                         1.610000  \n",
       "75%                         2.690000  \n",
       "max                         8.750000  "
      ]
     },
     "execution_count": 12,
     "metadata": {},
     "output_type": "execute_result"
    }
   ],
   "source": [
    "df1_copy.describe()"
   ]
  },
  {
   "cell_type": "code",
   "execution_count": 18,
   "id": "221b6534-7b9f-4fbb-8b03-bb02e622cb6a",
   "metadata": {},
   "outputs": [
    {
     "data": {
      "text/plain": [
       "County                                    object\n",
       "Cases Diagnosed As Of 2/28/2023            int64\n",
       "Cumulative Cases Diagnosed Since 2016      int64\n",
       "2016-2023 AIDS Diagnosis Rate            float64\n",
       "dtype: object"
      ]
     },
     "execution_count": 18,
     "metadata": {},
     "output_type": "execute_result"
    }
   ],
   "source": [
    "df1_copy.dtypes"
   ]
  },
  {
   "cell_type": "code",
   "execution_count": 21,
   "id": "278e0fcb-421a-4420-87c7-7484373aa6e5",
   "metadata": {},
   "outputs": [
    {
     "data": {
      "text/plain": [
       "County                                   0\n",
       "Cases Diagnosed As Of 2/28/2023          0\n",
       "Cumulative Cases Diagnosed Since 2016    0\n",
       "2016-2023 AIDS Diagnosis Rate            1\n",
       "dtype: int64"
      ]
     },
     "execution_count": 21,
     "metadata": {},
     "output_type": "execute_result"
    }
   ],
   "source": [
    "# checking all the null values\n",
    "df1_copy.isna().sum()"
   ]
  },
  {
   "cell_type": "code",
   "execution_count": 22,
   "id": "3d849132-10c2-427b-9cf2-bc69822efe4f",
   "metadata": {},
   "outputs": [],
   "source": [
    "# replacing the null value with 0\n",
    "df1_copy['2016-2023 AIDS Diagnosis Rate'] = df1_copy['2016-2023 AIDS Diagnosis Rate'].fillna(0).astype(float)"
   ]
  },
  {
   "cell_type": "code",
   "execution_count": 23,
   "id": "9cb17ff9-6b14-4540-b1e8-0a54ebfac148",
   "metadata": {},
   "outputs": [
    {
     "data": {
      "text/plain": [
       "County                                   0\n",
       "Cases Diagnosed As Of 2/28/2023          0\n",
       "Cumulative Cases Diagnosed Since 2016    0\n",
       "2016-2023 AIDS Diagnosis Rate            0\n",
       "dtype: int64"
      ]
     },
     "execution_count": 23,
     "metadata": {},
     "output_type": "execute_result"
    }
   ],
   "source": [
    "df1_copy.isna().sum()"
   ]
  },
  {
   "cell_type": "code",
   "execution_count": 31,
   "id": "06293c7d-a3f6-4ba1-83db-1d7577d9153f",
   "metadata": {},
   "outputs": [
    {
     "name": "stdout",
     "output_type": "stream",
     "text": [
      "Rows: 104 columns: 4\n"
     ]
    }
   ],
   "source": [
    "# number of rows and columns\n",
    "rows,columns = df1_copy.shape\n",
    "print(f'Rows: {rows} columns: {columns}')"
   ]
  },
  {
   "cell_type": "code",
   "execution_count": 34,
   "id": "3ce3ebdc-d580-44d4-ae64-15bed657fba8",
   "metadata": {},
   "outputs": [
    {
     "data": {
      "text/html": [
       "<div>\n",
       "<style scoped>\n",
       "    .dataframe tbody tr th:only-of-type {\n",
       "        vertical-align: middle;\n",
       "    }\n",
       "\n",
       "    .dataframe tbody tr th {\n",
       "        vertical-align: top;\n",
       "    }\n",
       "\n",
       "    .dataframe thead th {\n",
       "        text-align: right;\n",
       "    }\n",
       "</style>\n",
       "<table border=\"1\" class=\"dataframe\">\n",
       "  <thead>\n",
       "    <tr style=\"text-align: right;\">\n",
       "      <th></th>\n",
       "      <th>County</th>\n",
       "      <th>Cases Diagnosed As Of 2/28/2023</th>\n",
       "      <th>Cumulative Cases Diagnosed Since 2016</th>\n",
       "      <th>2016-2023 AIDS Diagnosis Rate</th>\n",
       "    </tr>\n",
       "  </thead>\n",
       "  <tbody>\n",
       "  </tbody>\n",
       "</table>\n",
       "</div>"
      ],
      "text/plain": [
       "Empty DataFrame\n",
       "Columns: [County, Cases Diagnosed As Of 2/28/2023, Cumulative Cases Diagnosed Since 2016, 2016-2023 AIDS Diagnosis Rate]\n",
       "Index: []"
      ]
     },
     "execution_count": 34,
     "metadata": {},
     "output_type": "execute_result"
    }
   ],
   "source": [
    "# checking for duplicate values\n",
    "df1_copy.loc[df1_copy.duplicated()] # locates all duplicate values"
   ]
  },
  {
   "cell_type": "markdown",
   "id": "aed4c962-1c86-41d5-be7c-fe75b8e90754",
   "metadata": {},
   "source": [
    "# Feature Analysis\n",
    "## Univariant Analysis\n",
    "- undestanding distribution of the features and potential outliers in the data set"
   ]
  },
  {
   "cell_type": "code",
   "execution_count": 36,
   "id": "b1d4a660-5717-45a5-9c6e-fccf4f24c794",
   "metadata": {},
   "outputs": [],
   "source": [
    "pd.reset_option('display.max_rows', None)"
   ]
  },
  {
   "cell_type": "code",
   "execution_count": 41,
   "id": "54f619f7-f46a-494a-8463-833bda122550",
   "metadata": {},
   "outputs": [
    {
     "data": {
      "text/plain": [
       "County\n",
       "Adams         1\n",
       "Alexander     1\n",
       "Bond          1\n",
       "Boone         1\n",
       "Brown         1\n",
       "             ..\n",
       "Williamson    1\n",
       "Winnebago     1\n",
       "Woodford      1\n",
       "Unknown       1\n",
       "Illinois      1\n",
       "Name: count, Length: 104, dtype: int64"
      ]
     },
     "execution_count": 41,
     "metadata": {},
     "output_type": "execute_result"
    }
   ],
   "source": [
    "# counting unique values occuring on the data\n",
    "df1_copy['County'].value_counts()"
   ]
  },
  {
   "cell_type": "code",
   "execution_count": 49,
   "id": "12c608dc-2553-4ec2-a055-3e13c7c6dcff",
   "metadata": {},
   "outputs": [],
   "source": [
    "# correlation\n",
    "correlation = round(df1_copy[df1_copy.columns[1:]].corr(),2)"
   ]
  },
  {
   "cell_type": "code",
   "execution_count": 195,
   "id": "b3b4c862-c473-4a2f-be0c-92dc49c27cae",
   "metadata": {},
   "outputs": [
    {
     "data": {
      "image/png": "[encoded data removed]",
      "text/plain": [
       "<Figure size 800x640 with 2 Axes>"
      ]
     },
     "metadata": {},
     "output_type": "display_data"
    }
   ],
   "source": [
    "# plotting correlation on a heat map to show their relation\n",
    "plt.subplots(figsize=(10,8))\n",
    "sns.heatmap(correlation, annot=True)\n",
    "plt.show()"
   ]
  },
  {
   "cell_type": "code",
   "execution_count": 136,
   "id": "90f70743-9e83-4401-af12-7261e3b33c3b",
   "metadata": {},
   "outputs": [
    {
     "data": {
      "application/vnd.plotly.v1+json": {
       "config": {
        "plotlyServerURL": "https://plot.ly"
       },
       "data": [
        {
         "alignmentgroup": "True",
         "bingroup": "x",
         "hovertemplate": "Cumulative Cases Diagnosed Since 2016=%{x}<br>count=%{y}<extra></extra>",
         "legendgroup": "",
         "marker": {
          "color": "#636efa",
          "pattern": {
           "shape": ""
          }
         },
         "name": "",
         "offsetgroup": "",
         "orientation": "v",
         "showlegend": false,
         "type": "histogram",
         "x": [
          6,
          2,
          1,
          3,
          1,
          1,
          0,
          0,
          2,
          45,
          4,
          0,
          2,
          3,
          3,
          2898,
          4,
          1,
          17,
          2,
          0,
          100,
          0,
          0,
          5,
          7,
          0,
          9,
          6,
          1,
          1,
          3,
          1,
          1,
          2,
          0,
          8,
          4,
          13,
          1,
          3,
          2,
          2,
          8,
          78,
          26,
          10,
          14,
          122,
          13,
          3,
          10,
          10,
          3,
          2,
          25,
          25,
          35,
          3,
          54,
          6,
          0,
          1,
          1,
          1,
          2,
          1,
          7,
          5,
          2,
          8,
          55,
          9,
          0,
          0,
          1,
          1,
          0,
          7,
          1,
          31,
          116,
          3,
          35,
          0,
          0,
          1,
          0,
          13,
          6,
          0,
          29,
          0,
          1,
          1,
          0,
          2,
          4,
          105,
          4,
          61,
          3,
          1,
          4129
         ],
         "xaxis": "x",
         "yaxis": "y"
        }
       ],
       "layout": {
        "autosize": true,
        "bargap": 0.2,
        "barmode": "relative",
        "legend": {
         "tracegroupgap": 0
        },
        "margin": {
         "t": 60
        },
        "template": {
         "data": {
          "bar": [
           {
            "error_x": {
             "color": "#2a3f5f"
            },
            "error_y": {
             "color": "#2a3f5f"
            },
            "marker": {
             "line": {
              "color": "#E5ECF6",
              "width": 0.5
             },
             "pattern": {
              "fillmode": "overlay",
              "size": 10,
              "solidity": 0.2
             }
            },
            "type": "bar"
           }
          ],
          "barpolar": [
           {
            "marker": {
             "line": {
              "color": "#E5ECF6",
              "width": 0.5
             },
             "pattern": {
              "fillmode": "overlay",
              "size": 10,
              "solidity": 0.2
             }
            },
            "type": "barpolar"
           }
          ],
          "carpet": [
           {
            "aaxis": {
             "endlinecolor": "#2a3f5f",
             "gridcolor": "white",
             "linecolor": "white",
             "minorgridcolor": "white",
             "startlinecolor": "#2a3f5f"
            },
            "baxis": {
             "endlinecolor": "#2a3f5f",
             "gridcolor": "white",
             "linecolor": "white",
             "minorgridcolor": "white",
             "startlinecolor": "#2a3f5f"
            },
            "type": "carpet"
           }
          ],
          "choropleth": [
           {
            "colorbar": {
             "outlinewidth": 0,
             "ticks": ""
            },
            "type": "choropleth"
           }
          ],
          "contour": [
           {
            "colorbar": {
             "outlinewidth": 0,
             "ticks": ""
            },
            "colorscale": [
             [
              0,
              "#0d0887"
             ],
             [
              0.1111111111111111,
              "#46039f"
             ],
             [
              0.2222222222222222,
              "#7201a8"
             ],
             [
              0.3333333333333333,
              "#9c179e"
             ],
             [
              0.4444444444444444,
              "#bd3786"
             ],
             [
              0.5555555555555556,
              "#d8576b"
             ],
             [
              0.6666666666666666,
              "#ed7953"
             ],
             [
              0.7777777777777778,
              "#fb9f3a"
             ],
             [
              0.8888888888888888,
              "#fdca26"
             ],
             [
              1,
              "#f0f921"
             ]
            ],
            "type": "contour"
           }
          ],
          "contourcarpet": [
           {
            "colorbar": {
             "outlinewidth": 0,
             "ticks": ""
            },
            "type": "contourcarpet"
           }
          ],
          "heatmap": [
           {
            "colorbar": {
             "outlinewidth": 0,
             "ticks": ""
            },
            "colorscale": [
             [
              0,
              "#0d0887"
             ],
             [
              0.1111111111111111,
              "#46039f"
             ],
             [
              0.2222222222222222,
              "#7201a8"
             ],
             [
              0.3333333333333333,
              "#9c179e"
             ],
             [
              0.4444444444444444,
              "#bd3786"
             ],
             [
              0.5555555555555556,
              "#d8576b"
             ],
             [
              0.6666666666666666,
              "#ed7953"
             ],
             [
              0.7777777777777778,
              "#fb9f3a"
             ],
             [
              0.8888888888888888,
              "#fdca26"
             ],
             [
              1,
              "#f0f921"
             ]
            ],
            "type": "heatmap"
           }
          ],
          "heatmapgl": [
           {
            "colorbar": {
             "outlinewidth": 0,
             "ticks": ""
            },
            "colorscale": [
             [
              0,
              "#0d0887"
             ],
             [
              0.1111111111111111,
              "#46039f"
             ],
             [
              0.2222222222222222,
              "#7201a8"
             ],
             [
              0.3333333333333333,
              "#9c179e"
             ],
             [
              0.4444444444444444,
              "#bd3786"
             ],
             [
              0.5555555555555556,
              "#d8576b"
             ],
             [
              0.6666666666666666,
              "#ed7953"
             ],
             [
              0.7777777777777778,
              "#fb9f3a"
             ],
             [
              0.8888888888888888,
              "#fdca26"
             ],
             [
              1,
              "#f0f921"
             ]
            ],
            "type": "heatmapgl"
           }
          ],
          "histogram": [
           {
            "marker": {
             "pattern": {
              "fillmode": "overlay",
              "size": 10,
              "solidity": 0.2
             }
            },
            "type": "histogram"
           }
          ],
          "histogram2d": [
           {
            "colorbar": {
             "outlinewidth": 0,
             "ticks": ""
            },
            "colorscale": [
             [
              0,
              "#0d0887"
             ],
             [
              0.1111111111111111,
              "#46039f"
             ],
             [
              0.2222222222222222,
              "#7201a8"
             ],
             [
              0.3333333333333333,
              "#9c179e"
             ],
             [
              0.4444444444444444,
              "#bd3786"
             ],
             [
              0.5555555555555556,
              "#d8576b"
             ],
             [
              0.6666666666666666,
              "#ed7953"
             ],
             [
              0.7777777777777778,
              "#fb9f3a"
             ],
             [
              0.8888888888888888,
              "#fdca26"
             ],
             [
              1,
              "#f0f921"
             ]
            ],
            "type": "histogram2d"
           }
          ],
          "histogram2dcontour": [
           {
            "colorbar": {
             "outlinewidth": 0,
             "ticks": ""
            },
            "colorscale": [
             [
              0,
              "#0d0887"
             ],
             [
              0.1111111111111111,
              "#46039f"
             ],
             [
              0.2222222222222222,
              "#7201a8"
             ],
             [
              0.3333333333333333,
              "#9c179e"
             ],
             [
              0.4444444444444444,
              "#bd3786"
             ],
             [
              0.5555555555555556,
              "#d8576b"
             ],
             [
              0.6666666666666666,
              "#ed7953"
             ],
             [
              0.7777777777777778,
              "#fb9f3a"
             ],
             [
              0.8888888888888888,
              "#fdca26"
             ],
             [
              1,
              "#f0f921"
             ]
            ],
            "type": "histogram2dcontour"
           }
          ],
          "mesh3d": [
           {
            "colorbar": {
             "outlinewidth": 0,
             "ticks": ""
            },
            "type": "mesh3d"
           }
          ],
          "parcoords": [
           {
            "line": {
             "colorbar": {
              "outlinewidth": 0,
              "ticks": ""
             }
            },
            "type": "parcoords"
           }
          ],
          "pie": [
           {
            "automargin": true,
            "type": "pie"
           }
          ],
          "scatter": [
           {
            "fillpattern": {
             "fillmode": "overlay",
             "size": 10,
             "solidity": 0.2
            },
            "type": "scatter"
           }
          ],
          "scatter3d": [
           {
            "line": {
             "colorbar": {
              "outlinewidth": 0,
              "ticks": ""
             }
            },
            "marker": {
             "colorbar": {
              "outlinewidth": 0,
              "ticks": ""
             }
            },
            "type": "scatter3d"
           }
          ],
          "scattercarpet": [
           {
            "marker": {
             "colorbar": {
              "outlinewidth": 0,
              "ticks": ""
             }
            },
            "type": "scattercarpet"
           }
          ],
          "scattergeo": [
           {
            "marker": {
             "colorbar": {
              "outlinewidth": 0,
              "ticks": ""
             }
            },
            "type": "scattergeo"
           }
          ],
          "scattergl": [
           {
            "marker": {
             "colorbar": {
              "outlinewidth": 0,
              "ticks": ""
             }
            },
            "type": "scattergl"
           }
          ],
          "scattermapbox": [
           {
            "marker": {
             "colorbar": {
              "outlinewidth": 0,
              "ticks": ""
             }
            },
            "type": "scattermapbox"
           }
          ],
          "scatterpolar": [
           {
            "marker": {
             "colorbar": {
              "outlinewidth": 0,
              "ticks": ""
             }
            },
            "type": "scatterpolar"
           }
          ],
          "scatterpolargl": [
           {
            "marker": {
             "colorbar": {
              "outlinewidth": 0,
              "ticks": ""
             }
            },
            "type": "scatterpolargl"
           }
          ],
          "scatterternary": [
           {
            "marker": {
             "colorbar": {
              "outlinewidth": 0,
              "ticks": ""
             }
            },
            "type": "scatterternary"
           }
          ],
          "surface": [
           {
            "colorbar": {
             "outlinewidth": 0,
             "ticks": ""
            },
            "colorscale": [
             [
              0,
              "#0d0887"
             ],
             [
              0.1111111111111111,
              "#46039f"
             ],
             [
              0.2222222222222222,
              "#7201a8"
             ],
             [
              0.3333333333333333,
              "#9c179e"
             ],
             [
              0.4444444444444444,
              "#bd3786"
             ],
             [
              0.5555555555555556,
              "#d8576b"
             ],
             [
              0.6666666666666666,
              "#ed7953"
             ],
             [
              0.7777777777777778,
              "#fb9f3a"
             ],
             [
              0.8888888888888888,
              "#fdca26"
             ],
             [
              1,
              "#f0f921"
             ]
            ],
            "type": "surface"
           }
          ],
          "table": [
           {
            "cells": {
             "fill": {
              "color": "#EBF0F8"
             },
             "line": {
              "color": "white"
             }
            },
            "header": {
             "fill": {
              "color": "#C8D4E3"
             },
             "line": {
              "color": "white"
             }
            },
            "type": "table"
           }
          ]
         },
         "layout": {
          "annotationdefaults": {
           "arrowcolor": "#2a3f5f",
           "arrowhead": 0,
           "arrowwidth": 1
          },
          "autotypenumbers": "strict",
          "coloraxis": {
           "colorbar": {
            "outlinewidth": 0,
            "ticks": ""
           }
          },
          "colorscale": {
           "diverging": [
            [
             0,
             "#8e0152"
            ],
            [
             0.1,
             "#c51b7d"
            ],
            [
             0.2,
             "#de77ae"
            ],
            [
             0.3,
             "#f1b6da"
            ],
            [
             0.4,
             "#fde0ef"
            ],
            [
             0.5,
             "#f7f7f7"
            ],
            [
             0.6,
             "#e6f5d0"
            ],
            [
             0.7,
             "#b8e186"
            ],
            [
             0.8,
             "#7fbc41"
            ],
            [
             0.9,
             "#4d9221"
            ],
            [
             1,
             "#276419"
            ]
           ],
           "sequential": [
            [
             0,
             "#0d0887"
            ],
            [
             0.1111111111111111,
             "#46039f"
            ],
            [
             0.2222222222222222,
             "#7201a8"
            ],
            [
             0.3333333333333333,
             "#9c179e"
            ],
            [
             0.4444444444444444,
             "#bd3786"
            ],
            [
             0.5555555555555556,
             "#d8576b"
            ],
            [
             0.6666666666666666,
             "#ed7953"
            ],
            [
             0.7777777777777778,
             "#fb9f3a"
            ],
            [
             0.8888888888888888,
             "#fdca26"
            ],
            [
             1,
             "#f0f921"
            ]
           ],
           "sequentialminus": [
            [
             0,
             "#0d0887"
            ],
            [
             0.1111111111111111,
             "#46039f"
            ],
            [
             0.2222222222222222,
             "#7201a8"
            ],
            [
             0.3333333333333333,
             "#9c179e"
            ],
            [
             0.4444444444444444,
             "#bd3786"
            ],
            [
             0.5555555555555556,
             "#d8576b"
            ],
            [
             0.6666666666666666,
             "#ed7953"
            ],
            [
             0.7777777777777778,
             "#fb9f3a"
            ],
            [
             0.8888888888888888,
             "#fdca26"
            ],
            [
             1,
             "#f0f921"
            ]
           ]
          },
          "colorway": [
           "#636efa",
           "#EF553B",
           "#00cc96",
           "#ab63fa",
           "#FFA15A",
           "#19d3f3",
           "#FF6692",
           "#B6E880",
           "#FF97FF",
           "#FECB52"
          ],
          "font": {
           "color": "#2a3f5f"
          },
          "geo": {
           "bgcolor": "white",
           "lakecolor": "white",
           "landcolor": "#E5ECF6",
           "showlakes": true,
           "showland": true,
           "subunitcolor": "white"
          },
          "hoverlabel": {
           "align": "left"
          },
          "hovermode": "closest",
          "mapbox": {
           "style": "light"
          },
          "paper_bgcolor": "white",
          "plot_bgcolor": "#E5ECF6",
          "polar": {
           "angularaxis": {
            "gridcolor": "white",
            "linecolor": "white",
            "ticks": ""
           },
           "bgcolor": "#E5ECF6",
           "radialaxis": {
            "gridcolor": "white",
            "linecolor": "white",
            "ticks": ""
           }
          },
          "scene": {
           "xaxis": {
            "backgroundcolor": "#E5ECF6",
            "gridcolor": "white",
            "gridwidth": 2,
            "linecolor": "white",
            "showbackground": true,
            "ticks": "",
            "zerolinecolor": "white"
           },
           "yaxis": {
            "backgroundcolor": "#E5ECF6",
            "gridcolor": "white",
            "gridwidth": 2,
            "linecolor": "white",
            "showbackground": true,
            "ticks": "",
            "zerolinecolor": "white"
           },
           "zaxis": {
            "backgroundcolor": "#E5ECF6",
            "gridcolor": "white",
            "gridwidth": 2,
            "linecolor": "white",
            "showbackground": true,
            "ticks": "",
            "zerolinecolor": "white"
           }
          },
          "shapedefaults": {
           "line": {
            "color": "#2a3f5f"
           }
          },
          "ternary": {
           "aaxis": {
            "gridcolor": "white",
            "linecolor": "white",
            "ticks": ""
           },
           "baxis": {
            "gridcolor": "white",
            "linecolor": "white",
            "ticks": ""
           },
           "bgcolor": "#E5ECF6",
           "caxis": {
            "gridcolor": "white",
            "linecolor": "white",
            "ticks": ""
           }
          },
          "title": {
           "x": 0.05
          },
          "xaxis": {
           "automargin": true,
           "gridcolor": "white",
           "linecolor": "white",
           "ticks": "",
           "title": {
            "standoff": 15
           },
           "zerolinecolor": "white",
           "zerolinewidth": 2
          },
          "yaxis": {
           "automargin": true,
           "gridcolor": "white",
           "linecolor": "white",
           "ticks": "",
           "title": {
            "standoff": 15
           },
           "zerolinecolor": "white",
           "zerolinewidth": 2
          }
         }
        },
        "xaxis": {
         "anchor": "y",
         "autorange": true,
         "domain": [
          0,
          1
         ],
         "range": [
          -0.5,
          4199.5
         ],
         "title": {
          "text": "Cumulative Cases Diagnosed Since 2016"
         },
         "type": "linear"
        },
        "yaxis": {
         "anchor": "x",
         "autorange": true,
         "domain": [
          0,
          1
         ],
         "range": [
          0,
          107.36842105263158
         ],
         "title": {
          "text": "count"
         }
        }
       }
      },
      "image/png": "[encoded data removed]",
      "text/html": [
       "<div>                            <div id=\"74f98d2c-e926-4808-8d08-6d6adc556101\" class=\"plotly-graph-div\" style=\"height:525px; width:100%;\"></div>            <script type=\"text/javascript\">                require([\"plotly\"], function(Plotly) {                    window.PLOTLYENV=window.PLOTLYENV || {};                                    if (document.getElementById(\"74f98d2c-e926-4808-8d08-6d6adc556101\")) {                    Plotly.newPlot(                        \"74f98d2c-e926-4808-8d08-6d6adc556101\",                        [{\"alignmentgroup\":\"True\",\"bingroup\":\"x\",\"hovertemplate\":\"Cumulative Cases Diagnosed Since 2016=%{x}\\u003cbr\\u003ecount=%{y}\\u003cextra\\u003e\\u003c\\u002fextra\\u003e\",\"legendgroup\":\"\",\"marker\":{\"color\":\"#636efa\",\"pattern\":{\"shape\":\"\"}},\"name\":\"\",\"offsetgroup\":\"\",\"orientation\":\"v\",\"showlegend\":false,\"x\":[6,2,1,3,1,1,0,0,2,45,4,0,2,3,3,2898,4,1,17,2,0,100,0,0,5,7,0,9,6,1,1,3,1,1,2,0,8,4,13,1,3,2,2,8,78,26,10,14,122,13,3,10,10,3,2,25,25,35,3,54,6,0,1,1,1,2,1,7,5,2,8,55,9,0,0,1,1,0,7,1,31,116,3,35,0,0,1,0,13,6,0,29,0,1,1,0,2,4,105,4,61,3,1,4129],\"xaxis\":\"x\",\"yaxis\":\"y\",\"type\":\"histogram\"}],                        {\"template\":{\"data\":{\"histogram2dcontour\":[{\"type\":\"histogram2dcontour\",\"colorbar\":{\"outlinewidth\":0,\"ticks\":\"\"},\"colorscale\":[[0.0,\"#0d0887\"],[0.1111111111111111,\"#46039f\"],[0.2222222222222222,\"#7201a8\"],[0.3333333333333333,\"#9c179e\"],[0.4444444444444444,\"#bd3786\"],[0.5555555555555556,\"#d8576b\"],[0.6666666666666666,\"#ed7953\"],[0.7777777777777778,\"#fb9f3a\"],[0.8888888888888888,\"#fdca26\"],[1.0,\"#f0f921\"]]}],\"choropleth\":[{\"type\":\"choropleth\",\"colorbar\":{\"outlinewidth\":0,\"ticks\":\"\"}}],\"histogram2d\":[{\"type\":\"histogram2d\",\"colorbar\":{\"outlinewidth\":0,\"ticks\":\"\"},\"colorscale\":[[0.0,\"#0d0887\"],[0.1111111111111111,\"#46039f\"],[0.2222222222222222,\"#7201a8\"],[0.3333333333333333,\"#9c179e\"],[0.4444444444444444,\"#bd3786\"],[0.5555555555555556,\"#d8576b\"],[0.6666666666666666,\"#ed7953\"],[0.7777777777777778,\"#fb9f3a\"],[0.8888888888888888,\"#fdca26\"],[1.0,\"#f0f921\"]]}],\"heatmap\":[{\"type\":\"heatmap\",\"colorbar\":{\"outlinewidth\":0,\"ticks\":\"\"},\"colorscale\":[[0.0,\"#0d0887\"],[0.1111111111111111,\"#46039f\"],[0.2222222222222222,\"#7201a8\"],[0.3333333333333333,\"#9c179e\"],[0.4444444444444444,\"#bd3786\"],[0.5555555555555556,\"#d8576b\"],[0.6666666666666666,\"#ed7953\"],[0.7777777777777778,\"#fb9f3a\"],[0.8888888888888888,\"#fdca26\"],[1.0,\"#f0f921\"]]}],\"heatmapgl\":[{\"type\":\"heatmapgl\",\"colorbar\":{\"outlinewidth\":0,\"ticks\":\"\"},\"colorscale\":[[0.0,\"#0d0887\"],[0.1111111111111111,\"#46039f\"],[0.2222222222222222,\"#7201a8\"],[0.3333333333333333,\"#9c179e\"],[0.4444444444444444,\"#bd3786\"],[0.5555555555555556,\"#d8576b\"],[0.6666666666666666,\"#ed7953\"],[0.7777777777777778,\"#fb9f3a\"],[0.8888888888888888,\"#fdca26\"],[1.0,\"#f0f921\"]]}],\"contourcarpet\":[{\"type\":\"contourcarpet\",\"colorbar\":{\"outlinewidth\":0,\"ticks\":\"\"}}],\"contour\":[{\"type\":\"contour\",\"colorbar\":{\"outlinewidth\":0,\"ticks\":\"\"},\"colorscale\":[[0.0,\"#0d0887\"],[0.1111111111111111,\"#46039f\"],[0.2222222222222222,\"#7201a8\"],[0.3333333333333333,\"#9c179e\"],[0.4444444444444444,\"#bd3786\"],[0.5555555555555556,\"#d8576b\"],[0.6666666666666666,\"#ed7953\"],[0.7777777777777778,\"#fb9f3a\"],[0.8888888888888888,\"#fdca26\"],[1.0,\"#f0f921\"]]}],\"surface\":[{\"type\":\"surface\",\"colorbar\":{\"outlinewidth\":0,\"ticks\":\"\"},\"colorscale\":[[0.0,\"#0d0887\"],[0.1111111111111111,\"#46039f\"],[0.2222222222222222,\"#7201a8\"],[0.3333333333333333,\"#9c179e\"],[0.4444444444444444,\"#bd3786\"],[0.5555555555555556,\"#d8576b\"],[0.6666666666666666,\"#ed7953\"],[0.7777777777777778,\"#fb9f3a\"],[0.8888888888888888,\"#fdca26\"],[1.0,\"#f0f921\"]]}],\"mesh3d\":[{\"type\":\"mesh3d\",\"colorbar\":{\"outlinewidth\":0,\"ticks\":\"\"}}],\"scatter\":[{\"fillpattern\":{\"fillmode\":\"overlay\",\"size\":10,\"solidity\":0.2},\"type\":\"scatter\"}],\"parcoords\":[{\"type\":\"parcoords\",\"line\":{\"colorbar\":{\"outlinewidth\":0,\"ticks\":\"\"}}}],\"scatterpolargl\":[{\"type\":\"scatterpolargl\",\"marker\":{\"colorbar\":{\"outlinewidth\":0,\"ticks\":\"\"}}}],\"bar\":[{\"error_x\":{\"color\":\"#2a3f5f\"},\"error_y\":{\"color\":\"#2a3f5f\"},\"marker\":{\"line\":{\"color\":\"#E5ECF6\",\"width\":0.5},\"pattern\":{\"fillmode\":\"overlay\",\"size\":10,\"solidity\":0.2}},\"type\":\"bar\"}],\"scattergeo\":[{\"type\":\"scattergeo\",\"marker\":{\"colorbar\":{\"outlinewidth\":0,\"ticks\":\"\"}}}],\"scatterpolar\":[{\"type\":\"scatterpolar\",\"marker\":{\"colorbar\":{\"outlinewidth\":0,\"ticks\":\"\"}}}],\"histogram\":[{\"marker\":{\"pattern\":{\"fillmode\":\"overlay\",\"size\":10,\"solidity\":0.2}},\"type\":\"histogram\"}],\"scattergl\":[{\"type\":\"scattergl\",\"marker\":{\"colorbar\":{\"outlinewidth\":0,\"ticks\":\"\"}}}],\"scatter3d\":[{\"type\":\"scatter3d\",\"line\":{\"colorbar\":{\"outlinewidth\":0,\"ticks\":\"\"}},\"marker\":{\"colorbar\":{\"outlinewidth\":0,\"ticks\":\"\"}}}],\"scattermapbox\":[{\"type\":\"scattermapbox\",\"marker\":{\"colorbar\":{\"outlinewidth\":0,\"ticks\":\"\"}}}],\"scatterternary\":[{\"type\":\"scatterternary\",\"marker\":{\"colorbar\":{\"outlinewidth\":0,\"ticks\":\"\"}}}],\"scattercarpet\":[{\"type\":\"scattercarpet\",\"marker\":{\"colorbar\":{\"outlinewidth\":0,\"ticks\":\"\"}}}],\"carpet\":[{\"aaxis\":{\"endlinecolor\":\"#2a3f5f\",\"gridcolor\":\"white\",\"linecolor\":\"white\",\"minorgridcolor\":\"white\",\"startlinecolor\":\"#2a3f5f\"},\"baxis\":{\"endlinecolor\":\"#2a3f5f\",\"gridcolor\":\"white\",\"linecolor\":\"white\",\"minorgridcolor\":\"white\",\"startlinecolor\":\"#2a3f5f\"},\"type\":\"carpet\"}],\"table\":[{\"cells\":{\"fill\":{\"color\":\"#EBF0F8\"},\"line\":{\"color\":\"white\"}},\"header\":{\"fill\":{\"color\":\"#C8D4E3\"},\"line\":{\"color\":\"white\"}},\"type\":\"table\"}],\"barpolar\":[{\"marker\":{\"line\":{\"color\":\"#E5ECF6\",\"width\":0.5},\"pattern\":{\"fillmode\":\"overlay\",\"size\":10,\"solidity\":0.2}},\"type\":\"barpolar\"}],\"pie\":[{\"automargin\":true,\"type\":\"pie\"}]},\"layout\":{\"autotypenumbers\":\"strict\",\"colorway\":[\"#636efa\",\"#EF553B\",\"#00cc96\",\"#ab63fa\",\"#FFA15A\",\"#19d3f3\",\"#FF6692\",\"#B6E880\",\"#FF97FF\",\"#FECB52\"],\"font\":{\"color\":\"#2a3f5f\"},\"hovermode\":\"closest\",\"hoverlabel\":{\"align\":\"left\"},\"paper_bgcolor\":\"white\",\"plot_bgcolor\":\"#E5ECF6\",\"polar\":{\"bgcolor\":\"#E5ECF6\",\"angularaxis\":{\"gridcolor\":\"white\",\"linecolor\":\"white\",\"ticks\":\"\"},\"radialaxis\":{\"gridcolor\":\"white\",\"linecolor\":\"white\",\"ticks\":\"\"}},\"ternary\":{\"bgcolor\":\"#E5ECF6\",\"aaxis\":{\"gridcolor\":\"white\",\"linecolor\":\"white\",\"ticks\":\"\"},\"baxis\":{\"gridcolor\":\"white\",\"linecolor\":\"white\",\"ticks\":\"\"},\"caxis\":{\"gridcolor\":\"white\",\"linecolor\":\"white\",\"ticks\":\"\"}},\"coloraxis\":{\"colorbar\":{\"outlinewidth\":0,\"ticks\":\"\"}},\"colorscale\":{\"sequential\":[[0.0,\"#0d0887\"],[0.1111111111111111,\"#46039f\"],[0.2222222222222222,\"#7201a8\"],[0.3333333333333333,\"#9c179e\"],[0.4444444444444444,\"#bd3786\"],[0.5555555555555556,\"#d8576b\"],[0.6666666666666666,\"#ed7953\"],[0.7777777777777778,\"#fb9f3a\"],[0.8888888888888888,\"#fdca26\"],[1.0,\"#f0f921\"]],\"sequentialminus\":[[0.0,\"#0d0887\"],[0.1111111111111111,\"#46039f\"],[0.2222222222222222,\"#7201a8\"],[0.3333333333333333,\"#9c179e\"],[0.4444444444444444,\"#bd3786\"],[0.5555555555555556,\"#d8576b\"],[0.6666666666666666,\"#ed7953\"],[0.7777777777777778,\"#fb9f3a\"],[0.8888888888888888,\"#fdca26\"],[1.0,\"#f0f921\"]],\"diverging\":[[0,\"#8e0152\"],[0.1,\"#c51b7d\"],[0.2,\"#de77ae\"],[0.3,\"#f1b6da\"],[0.4,\"#fde0ef\"],[0.5,\"#f7f7f7\"],[0.6,\"#e6f5d0\"],[0.7,\"#b8e186\"],[0.8,\"#7fbc41\"],[0.9,\"#4d9221\"],[1,\"#276419\"]]},\"xaxis\":{\"gridcolor\":\"white\",\"linecolor\":\"white\",\"ticks\":\"\",\"title\":{\"standoff\":15},\"zerolinecolor\":\"white\",\"automargin\":true,\"zerolinewidth\":2},\"yaxis\":{\"gridcolor\":\"white\",\"linecolor\":\"white\",\"ticks\":\"\",\"title\":{\"standoff\":15},\"zerolinecolor\":\"white\",\"automargin\":true,\"zerolinewidth\":2},\"scene\":{\"xaxis\":{\"backgroundcolor\":\"#E5ECF6\",\"gridcolor\":\"white\",\"linecolor\":\"white\",\"showbackground\":true,\"ticks\":\"\",\"zerolinecolor\":\"white\",\"gridwidth\":2},\"yaxis\":{\"backgroundcolor\":\"#E5ECF6\",\"gridcolor\":\"white\",\"linecolor\":\"white\",\"showbackground\":true,\"ticks\":\"\",\"zerolinecolor\":\"white\",\"gridwidth\":2},\"zaxis\":{\"backgroundcolor\":\"#E5ECF6\",\"gridcolor\":\"white\",\"linecolor\":\"white\",\"showbackground\":true,\"ticks\":\"\",\"zerolinecolor\":\"white\",\"gridwidth\":2}},\"shapedefaults\":{\"line\":{\"color\":\"#2a3f5f\"}},\"annotationdefaults\":{\"arrowcolor\":\"#2a3f5f\",\"arrowhead\":0,\"arrowwidth\":1},\"geo\":{\"bgcolor\":\"white\",\"landcolor\":\"#E5ECF6\",\"subunitcolor\":\"white\",\"showland\":true,\"showlakes\":true,\"lakecolor\":\"white\"},\"title\":{\"x\":0.05},\"mapbox\":{\"style\":\"light\"}}},\"xaxis\":{\"anchor\":\"y\",\"domain\":[0.0,1.0],\"title\":{\"text\":\"Cumulative Cases Diagnosed Since 2016\"}},\"yaxis\":{\"anchor\":\"x\",\"domain\":[0.0,1.0],\"title\":{\"text\":\"count\"}},\"legend\":{\"tracegroupgap\":0},\"margin\":{\"t\":60},\"barmode\":\"relative\",\"bargap\":0.2},                        {\"responsive\": true}                    ).then(function(){\n",
       "                            \n",
       "var gd = document.getElementById('74f98d2c-e926-4808-8d08-6d6adc556101');\n",
       "var x = new MutationObserver(function (mutations, observer) {{\n",
       "        var display = window.getComputedStyle(gd).display;\n",
       "        if (!display || display === 'none') {{\n",
       "            console.log([gd, 'removed!']);\n",
       "            Plotly.purge(gd);\n",
       "            observer.disconnect();\n",
       "        }}\n",
       "}});\n",
       "\n",
       "// Listen for the removal of the full notebook cells\n",
       "var notebookContainer = gd.closest('#notebook-container');\n",
       "if (notebookContainer) {{\n",
       "    x.observe(notebookContainer, {childList: true});\n",
       "}}\n",
       "\n",
       "// Listen for the clearing of the current output cell\n",
       "var outputEl = gd.closest('.output');\n",
       "if (outputEl) {{\n",
       "    x.observe(outputEl, {childList: true});\n",
       "}}\n",
       "\n",
       "                        })                };                });            </script>        </div>"
      ]
     },
     "metadata": {},
     "output_type": "display_data"
    }
   ],
   "source": [
    "# showing the distribution of the Cumulative Cases Diagnosed Since 2016\n",
    "fig = px.histogram(df1_copy, x ='Cumulative Cases Diagnosed Since 2016')\n",
    "fig.update_layout(bargap=0.2)\n",
    "fig.show()"
   ]
  },
  {
   "cell_type": "code",
   "execution_count": 196,
   "id": "db96981d-ed35-4261-b3f1-8d3d7e582c6a",
   "metadata": {},
   "outputs": [
    {
     "data": {
      "image/png": "[encoded data removed]",
      "text/plain": [
       "<Figure size 640x440 with 1 Axes>"
      ]
     },
     "metadata": {},
     "output_type": "display_data"
    }
   ],
   "source": [
    "# distribution plot\n",
    "df1_copy['Cumulative Cases Diagnosed Since 2016'].plot(kind='kde', title='Cumulative Cases Diagnosed Since 2016')\n",
    "plt.show()"
   ]
  },
  {
   "cell_type": "code",
   "execution_count": 138,
   "id": "ea258c9f-5c54-4796-9810-1b65af1d584e",
   "metadata": {},
   "outputs": [
    {
     "data": {
      "application/vnd.plotly.v1+json": {
       "config": {
        "plotlyServerURL": "https://plot.ly"
       },
       "data": [
        {
         "hovertemplate": "<b>%{hovertext}</b><br><br>Cumulative Cases Diagnosed Since 2016=%{x}<br>Cases Diagnosed As Of 2/28/2023=%{y}<extra></extra>",
         "hovertext": [
          "Adams",
          "Alexander",
          "Bond",
          "Boone",
          "Brown",
          "Bureau",
          "Calhoun",
          "Carroll",
          "Cass",
          "Champaign",
          "Christian",
          "Clark",
          "Clay",
          "Clinton",
          "Coles",
          "Cook",
          "Crawford",
          "Cumberland",
          "DeKalb",
          "De Witt",
          "Douglas",
          "DuPage",
          "Edgar",
          "Edwards",
          "Effingham",
          "Fayette",
          "Ford",
          "Franklin",
          "Fulton",
          "Gallatin",
          "Greene",
          "Grundy",
          "Hamilton",
          "Hancock",
          "Hardin",
          "Henderson",
          "Henry",
          "Iroquois",
          "Jackson",
          "Jasper",
          "Jefferson",
          "Jersey",
          "Jo Daviess",
          "Johnson",
          "Kane",
          "Kankakee",
          "Kendall",
          "Knox",
          "Lake",
          "LaSalle",
          "Lawrence",
          "Lee",
          "Livingston",
          "Logan",
          "McDonough",
          "McHenry",
          "McLean",
          "Macon",
          "Macoupin",
          "Madison",
          "Marion",
          "Marshall",
          "Mason",
          "Massac",
          "Menard",
          "Mercer",
          "Monroe",
          "Montgomery",
          "Morgan",
          "Moultrie",
          "Ogle",
          "Peoria",
          "Perry",
          "Piatt",
          "Pike",
          "Pope",
          "Pulaski",
          "Putnam",
          "Randolph",
          "Richland",
          "Rock Island",
          "St. Clair",
          "Saline",
          "Sangamon",
          "Schuyler",
          "Scott",
          "Shelby",
          "Stark",
          "Stephenson",
          "Tazewell",
          "Union",
          "Vermilion",
          "Wabash",
          "Warren",
          "Washington",
          "Wayne",
          "White",
          "Whiteside",
          "Will",
          "Williamson",
          "Winnebago",
          "Woodford",
          "Unknown",
          "Illinois"
         ],
         "legendgroup": "",
         "marker": {
          "color": "#636efa",
          "symbol": "circle"
         },
         "mode": "markers",
         "name": "",
         "orientation": "v",
         "showlegend": false,
         "type": "scatter",
         "x": [
          6,
          2,
          1,
          3,
          1,
          1,
          0,
          0,
          2,
          45,
          4,
          0,
          2,
          3,
          3,
          2898,
          4,
          1,
          17,
          2,
          0,
          100,
          0,
          0,
          5,
          7,
          0,
          9,
          6,
          1,
          1,
          3,
          1,
          1,
          2,
          0,
          8,
          4,
          13,
          1,
          3,
          2,
          2,
          8,
          78,
          26,
          10,
          14,
          122,
          13,
          3,
          10,
          10,
          3,
          2,
          25,
          25,
          35,
          3,
          54,
          6,
          0,
          1,
          1,
          1,
          2,
          1,
          7,
          5,
          2,
          8,
          55,
          9,
          0,
          0,
          1,
          1,
          0,
          7,
          1,
          31,
          116,
          3,
          35,
          0,
          0,
          1,
          0,
          13,
          6,
          0,
          29,
          0,
          1,
          1,
          0,
          2,
          4,
          105,
          4,
          61,
          3,
          1,
          4129
         ],
         "xaxis": "x",
         "y": [
          0,
          0,
          0,
          1,
          0,
          0,
          0,
          0,
          0,
          0,
          0,
          0,
          0,
          0,
          0,
          46,
          0,
          0,
          2,
          0,
          0,
          2,
          0,
          0,
          2,
          1,
          0,
          0,
          0,
          0,
          1,
          0,
          0,
          0,
          0,
          0,
          0,
          0,
          0,
          0,
          1,
          0,
          0,
          1,
          2,
          0,
          0,
          0,
          2,
          0,
          0,
          1,
          0,
          0,
          0,
          0,
          1,
          2,
          0,
          2,
          1,
          0,
          0,
          0,
          0,
          0,
          0,
          1,
          0,
          0,
          1,
          1,
          1,
          0,
          0,
          0,
          0,
          0,
          0,
          0,
          1,
          1,
          0,
          0,
          0,
          0,
          0,
          0,
          0,
          0,
          0,
          0,
          0,
          0,
          0,
          0,
          0,
          0,
          1,
          0,
          1,
          0,
          0,
          76
         ],
         "yaxis": "y"
        }
       ],
       "layout": {
        "autosize": true,
        "legend": {
         "tracegroupgap": 0
        },
        "margin": {
         "t": 60
        },
        "template": {
         "data": {
          "bar": [
           {
            "error_x": {
             "color": "#2a3f5f"
            },
            "error_y": {
             "color": "#2a3f5f"
            },
            "marker": {
             "line": {
              "color": "#E5ECF6",
              "width": 0.5
             },
             "pattern": {
              "fillmode": "overlay",
              "size": 10,
              "solidity": 0.2
             }
            },
            "type": "bar"
           }
          ],
          "barpolar": [
           {
            "marker": {
             "line": {
              "color": "#E5ECF6",
              "width": 0.5
             },
             "pattern": {
              "fillmode": "overlay",
              "size": 10,
              "solidity": 0.2
             }
            },
            "type": "barpolar"
           }
          ],
          "carpet": [
           {
            "aaxis": {
             "endlinecolor": "#2a3f5f",
             "gridcolor": "white",
             "linecolor": "white",
             "minorgridcolor": "white",
             "startlinecolor": "#2a3f5f"
            },
            "baxis": {
             "endlinecolor": "#2a3f5f",
             "gridcolor": "white",
             "linecolor": "white",
             "minorgridcolor": "white",
             "startlinecolor": "#2a3f5f"
            },
            "type": "carpet"
           }
          ],
          "choropleth": [
           {
            "colorbar": {
             "outlinewidth": 0,
             "ticks": ""
            },
            "type": "choropleth"
           }
          ],
          "contour": [
           {
            "colorbar": {
             "outlinewidth": 0,
             "ticks": ""
            },
            "colorscale": [
             [
              0,
              "#0d0887"
             ],
             [
              0.1111111111111111,
              "#46039f"
             ],
             [
              0.2222222222222222,
              "#7201a8"
             ],
             [
              0.3333333333333333,
              "#9c179e"
             ],
             [
              0.4444444444444444,
              "#bd3786"
             ],
             [
              0.5555555555555556,
              "#d8576b"
             ],
             [
              0.6666666666666666,
              "#ed7953"
             ],
             [
              0.7777777777777778,
              "#fb9f3a"
             ],
             [
              0.8888888888888888,
              "#fdca26"
             ],
             [
              1,
              "#f0f921"
             ]
            ],
            "type": "contour"
           }
          ],
          "contourcarpet": [
           {
            "colorbar": {
             "outlinewidth": 0,
             "ticks": ""
            },
            "type": "contourcarpet"
           }
          ],
          "heatmap": [
           {
            "colorbar": {
             "outlinewidth": 0,
             "ticks": ""
            },
            "colorscale": [
             [
              0,
              "#0d0887"
             ],
             [
              0.1111111111111111,
              "#46039f"
             ],
             [
              0.2222222222222222,
              "#7201a8"
             ],
             [
              0.3333333333333333,
              "#9c179e"
             ],
             [
              0.4444444444444444,
              "#bd3786"
             ],
             [
              0.5555555555555556,
              "#d8576b"
             ],
             [
              0.6666666666666666,
              "#ed7953"
             ],
             [
              0.7777777777777778,
              "#fb9f3a"
             ],
             [
              0.8888888888888888,
              "#fdca26"
             ],
             [
              1,
              "#f0f921"
             ]
            ],
            "type": "heatmap"
           }
          ],
          "heatmapgl": [
           {
            "colorbar": {
             "outlinewidth": 0,
             "ticks": ""
            },
            "colorscale": [
             [
              0,
              "#0d0887"
             ],
             [
              0.1111111111111111,
              "#46039f"
             ],
             [
              0.2222222222222222,
              "#7201a8"
             ],
             [
              0.3333333333333333,
              "#9c179e"
             ],
             [
              0.4444444444444444,
              "#bd3786"
             ],
             [
              0.5555555555555556,
              "#d8576b"
             ],
             [
              0.6666666666666666,
              "#ed7953"
             ],
             [
              0.7777777777777778,
              "#fb9f3a"
             ],
             [
              0.8888888888888888,
              "#fdca26"
             ],
             [
              1,
              "#f0f921"
             ]
            ],
            "type": "heatmapgl"
           }
          ],
          "histogram": [
           {
            "marker": {
             "pattern": {
              "fillmode": "overlay",
              "size": 10,
              "solidity": 0.2
             }
            },
            "type": "histogram"
           }
          ],
          "histogram2d": [
           {
            "colorbar": {
             "outlinewidth": 0,
             "ticks": ""
            },
            "colorscale": [
             [
              0,
              "#0d0887"
             ],
             [
              0.1111111111111111,
              "#46039f"
             ],
             [
              0.2222222222222222,
              "#7201a8"
             ],
             [
              0.3333333333333333,
              "#9c179e"
             ],
             [
              0.4444444444444444,
              "#bd3786"
             ],
             [
              0.5555555555555556,
              "#d8576b"
             ],
             [
              0.6666666666666666,
              "#ed7953"
             ],
             [
              0.7777777777777778,
              "#fb9f3a"
             ],
             [
              0.8888888888888888,
              "#fdca26"
             ],
             [
              1,
              "#f0f921"
             ]
            ],
            "type": "histogram2d"
           }
          ],
          "histogram2dcontour": [
           {
            "colorbar": {
             "outlinewidth": 0,
             "ticks": ""
            },
            "colorscale": [
             [
              0,
              "#0d0887"
             ],
             [
              0.1111111111111111,
              "#46039f"
             ],
             [
              0.2222222222222222,
              "#7201a8"
             ],
             [
              0.3333333333333333,
              "#9c179e"
             ],
             [
              0.4444444444444444,
              "#bd3786"
             ],
             [
              0.5555555555555556,
              "#d8576b"
             ],
             [
              0.6666666666666666,
              "#ed7953"
             ],
             [
              0.7777777777777778,
              "#fb9f3a"
             ],
             [
              0.8888888888888888,
              "#fdca26"
             ],
             [
              1,
              "#f0f921"
             ]
            ],
            "type": "histogram2dcontour"
           }
          ],
          "mesh3d": [
           {
            "colorbar": {
             "outlinewidth": 0,
             "ticks": ""
            },
            "type": "mesh3d"
           }
          ],
          "parcoords": [
           {
            "line": {
             "colorbar": {
              "outlinewidth": 0,
              "ticks": ""
             }
            },
            "type": "parcoords"
           }
          ],
          "pie": [
           {
            "automargin": true,
            "type": "pie"
           }
          ],
          "scatter": [
           {
            "fillpattern": {
             "fillmode": "overlay",
             "size": 10,
             "solidity": 0.2
            },
            "type": "scatter"
           }
          ],
          "scatter3d": [
           {
            "line": {
             "colorbar": {
              "outlinewidth": 0,
              "ticks": ""
             }
            },
            "marker": {
             "colorbar": {
              "outlinewidth": 0,
              "ticks": ""
             }
            },
            "type": "scatter3d"
           }
          ],
          "scattercarpet": [
           {
            "marker": {
             "colorbar": {
              "outlinewidth": 0,
              "ticks": ""
             }
            },
            "type": "scattercarpet"
           }
          ],
          "scattergeo": [
           {
            "marker": {
             "colorbar": {
              "outlinewidth": 0,
              "ticks": ""
             }
            },
            "type": "scattergeo"
           }
          ],
          "scattergl": [
           {
            "marker": {
             "colorbar": {
              "outlinewidth": 0,
              "ticks": ""
             }
            },
            "type": "scattergl"
           }
          ],
          "scattermapbox": [
           {
            "marker": {
             "colorbar": {
              "outlinewidth": 0,
              "ticks": ""
             }
            },
            "type": "scattermapbox"
           }
          ],
          "scatterpolar": [
           {
            "marker": {
             "colorbar": {
              "outlinewidth": 0,
              "ticks": ""
             }
            },
            "type": "scatterpolar"
           }
          ],
          "scatterpolargl": [
           {
            "marker": {
             "colorbar": {
              "outlinewidth": 0,
              "ticks": ""
             }
            },
            "type": "scatterpolargl"
           }
          ],
          "scatterternary": [
           {
            "marker": {
             "colorbar": {
              "outlinewidth": 0,
              "ticks": ""
             }
            },
            "type": "scatterternary"
           }
          ],
          "surface": [
           {
            "colorbar": {
             "outlinewidth": 0,
             "ticks": ""
            },
            "colorscale": [
             [
              0,
              "#0d0887"
             ],
             [
              0.1111111111111111,
              "#46039f"
             ],
             [
              0.2222222222222222,
              "#7201a8"
             ],
             [
              0.3333333333333333,
              "#9c179e"
             ],
             [
              0.4444444444444444,
              "#bd3786"
             ],
             [
              0.5555555555555556,
              "#d8576b"
             ],
             [
              0.6666666666666666,
              "#ed7953"
             ],
             [
              0.7777777777777778,
              "#fb9f3a"
             ],
             [
              0.8888888888888888,
              "#fdca26"
             ],
             [
              1,
              "#f0f921"
             ]
            ],
            "type": "surface"
           }
          ],
          "table": [
           {
            "cells": {
             "fill": {
              "color": "#EBF0F8"
             },
             "line": {
              "color": "white"
             }
            },
            "header": {
             "fill": {
              "color": "#C8D4E3"
             },
             "line": {
              "color": "white"
             }
            },
            "type": "table"
           }
          ]
         },
         "layout": {
          "annotationdefaults": {
           "arrowcolor": "#2a3f5f",
           "arrowhead": 0,
           "arrowwidth": 1
          },
          "autotypenumbers": "strict",
          "coloraxis": {
           "colorbar": {
            "outlinewidth": 0,
            "ticks": ""
           }
          },
          "colorscale": {
           "diverging": [
            [
             0,
             "#8e0152"
            ],
            [
             0.1,
             "#c51b7d"
            ],
            [
             0.2,
             "#de77ae"
            ],
            [
             0.3,
             "#f1b6da"
            ],
            [
             0.4,
             "#fde0ef"
            ],
            [
             0.5,
             "#f7f7f7"
            ],
            [
             0.6,
             "#e6f5d0"
            ],
            [
             0.7,
             "#b8e186"
            ],
            [
             0.8,
             "#7fbc41"
            ],
            [
             0.9,
             "#4d9221"
            ],
            [
             1,
             "#276419"
            ]
           ],
           "sequential": [
            [
             0,
             "#0d0887"
            ],
            [
             0.1111111111111111,
             "#46039f"
            ],
            [
             0.2222222222222222,
             "#7201a8"
            ],
            [
             0.3333333333333333,
             "#9c179e"
            ],
            [
             0.4444444444444444,
             "#bd3786"
            ],
            [
             0.5555555555555556,
             "#d8576b"
            ],
            [
             0.6666666666666666,
             "#ed7953"
            ],
            [
             0.7777777777777778,
             "#fb9f3a"
            ],
            [
             0.8888888888888888,
             "#fdca26"
            ],
            [
             1,
             "#f0f921"
            ]
           ],
           "sequentialminus": [
            [
             0,
             "#0d0887"
            ],
            [
             0.1111111111111111,
             "#46039f"
            ],
            [
             0.2222222222222222,
             "#7201a8"
            ],
            [
             0.3333333333333333,
             "#9c179e"
            ],
            [
             0.4444444444444444,
             "#bd3786"
            ],
            [
             0.5555555555555556,
             "#d8576b"
            ],
            [
             0.6666666666666666,
             "#ed7953"
            ],
            [
             0.7777777777777778,
             "#fb9f3a"
            ],
            [
             0.8888888888888888,
             "#fdca26"
            ],
            [
             1,
             "#f0f921"
            ]
           ]
          },
          "colorway": [
           "#636efa",
           "#EF553B",
           "#00cc96",
           "#ab63fa",
           "#FFA15A",
           "#19d3f3",
           "#FF6692",
           "#B6E880",
           "#FF97FF",
           "#FECB52"
          ],
          "font": {
           "color": "#2a3f5f"
          },
          "geo": {
           "bgcolor": "white",
           "lakecolor": "white",
           "landcolor": "#E5ECF6",
           "showlakes": true,
           "showland": true,
           "subunitcolor": "white"
          },
          "hoverlabel": {
           "align": "left"
          },
          "hovermode": "closest",
          "mapbox": {
           "style": "light"
          },
          "paper_bgcolor": "white",
          "plot_bgcolor": "#E5ECF6",
          "polar": {
           "angularaxis": {
            "gridcolor": "white",
            "linecolor": "white",
            "ticks": ""
           },
           "bgcolor": "#E5ECF6",
           "radialaxis": {
            "gridcolor": "white",
            "linecolor": "white",
            "ticks": ""
           }
          },
          "scene": {
           "xaxis": {
            "backgroundcolor": "#E5ECF6",
            "gridcolor": "white",
            "gridwidth": 2,
            "linecolor": "white",
            "showbackground": true,
            "ticks": "",
            "zerolinecolor": "white"
           },
           "yaxis": {
            "backgroundcolor": "#E5ECF6",
            "gridcolor": "white",
            "gridwidth": 2,
            "linecolor": "white",
            "showbackground": true,
            "ticks": "",
            "zerolinecolor": "white"
           },
           "zaxis": {
            "backgroundcolor": "#E5ECF6",
            "gridcolor": "white",
            "gridwidth": 2,
            "linecolor": "white",
            "showbackground": true,
            "ticks": "",
            "zerolinecolor": "white"
           }
          },
          "shapedefaults": {
           "line": {
            "color": "#2a3f5f"
           }
          },
          "ternary": {
           "aaxis": {
            "gridcolor": "white",
            "linecolor": "white",
            "ticks": ""
           },
           "baxis": {
            "gridcolor": "white",
            "linecolor": "white",
            "ticks": ""
           },
           "bgcolor": "#E5ECF6",
           "caxis": {
            "gridcolor": "white",
            "linecolor": "white",
            "ticks": ""
           }
          },
          "title": {
           "x": 0.05
          },
          "xaxis": {
           "automargin": true,
           "gridcolor": "white",
           "linecolor": "white",
           "ticks": "",
           "title": {
            "standoff": 15
           },
           "zerolinecolor": "white",
           "zerolinewidth": 2
          },
          "yaxis": {
           "automargin": true,
           "gridcolor": "white",
           "linecolor": "white",
           "ticks": "",
           "title": {
            "standoff": 15
           },
           "zerolinecolor": "white",
           "zerolinewidth": 2
          }
         }
        },
        "xaxis": {
         "anchor": "y",
         "autorange": true,
         "domain": [
          0,
          1
         ],
         "range": [
          -0.218790423844891,
          3.8346353067195924
         ],
         "title": {
          "text": "Cumulative Cases Diagnosed Since 2016"
         },
         "type": "log"
        },
        "yaxis": {
         "anchor": "x",
         "autorange": true,
         "domain": [
          0,
          1
         ],
         "range": [
          -5.884514435695538,
          81.88451443569554
         ],
         "title": {
          "text": "Cases Diagnosed As Of 2/28/2023"
         },
         "type": "linear"
        }
       }
      },
      "image/png": "[encoded data removed]",
      "text/html": [
       "<div>                            <div id=\"0e4902ce-3b89-43fc-9ed5-bcb68f7d46a5\" class=\"plotly-graph-div\" style=\"height:525px; width:100%;\"></div>            <script type=\"text/javascript\">                require([\"plotly\"], function(Plotly) {                    window.PLOTLYENV=window.PLOTLYENV || {};                                    if (document.getElementById(\"0e4902ce-3b89-43fc-9ed5-bcb68f7d46a5\")) {                    Plotly.newPlot(                        \"0e4902ce-3b89-43fc-9ed5-bcb68f7d46a5\",                        [{\"hovertemplate\":\"\\u003cb\\u003e%{hovertext}\\u003c\\u002fb\\u003e\\u003cbr\\u003e\\u003cbr\\u003eCumulative Cases Diagnosed Since 2016=%{x}\\u003cbr\\u003eCases Diagnosed As Of 2\\u002f28\\u002f2023=%{y}\\u003cextra\\u003e\\u003c\\u002fextra\\u003e\",\"hovertext\":[\"Adams\",\"Alexander\",\"Bond\",\"Boone\",\"Brown\",\"Bureau\",\"Calhoun\",\"Carroll\",\"Cass\",\"Champaign\",\"Christian\",\"Clark\",\"Clay\",\"Clinton\",\"Coles\",\"Cook\",\"Crawford\",\"Cumberland\",\"DeKalb\",\"De Witt\",\"Douglas\",\"DuPage\",\"Edgar\",\"Edwards\",\"Effingham\",\"Fayette\",\"Ford\",\"Franklin\",\"Fulton\",\"Gallatin\",\"Greene\",\"Grundy\",\"Hamilton\",\"Hancock\",\"Hardin\",\"Henderson\",\"Henry\",\"Iroquois\",\"Jackson\",\"Jasper\",\"Jefferson\",\"Jersey\",\"Jo Daviess\",\"Johnson\",\"Kane\",\"Kankakee\",\"Kendall\",\"Knox\",\"Lake\",\"LaSalle\",\"Lawrence\",\"Lee\",\"Livingston\",\"Logan\",\"McDonough\",\"McHenry\",\"McLean\",\"Macon\",\"Macoupin\",\"Madison\",\"Marion\",\"Marshall\",\"Mason\",\"Massac\",\"Menard\",\"Mercer\",\"Monroe\",\"Montgomery\",\"Morgan\",\"Moultrie\",\"Ogle\",\"Peoria\",\"Perry\",\"Piatt\",\"Pike\",\"Pope\",\"Pulaski\",\"Putnam\",\"Randolph\",\"Richland\",\"Rock Island\",\"St. Clair\",\"Saline\",\"Sangamon\",\"Schuyler\",\"Scott\",\"Shelby\",\"Stark\",\"Stephenson\",\"Tazewell\",\"Union\",\"Vermilion\",\"Wabash\",\"Warren\",\"Washington\",\"Wayne\",\"White\",\"Whiteside\",\"Will\",\"Williamson\",\"Winnebago\",\"Woodford\",\"Unknown\",\"Illinois\"],\"legendgroup\":\"\",\"marker\":{\"color\":\"#636efa\",\"symbol\":\"circle\"},\"mode\":\"markers\",\"name\":\"\",\"orientation\":\"v\",\"showlegend\":false,\"x\":[6,2,1,3,1,1,0,0,2,45,4,0,2,3,3,2898,4,1,17,2,0,100,0,0,5,7,0,9,6,1,1,3,1,1,2,0,8,4,13,1,3,2,2,8,78,26,10,14,122,13,3,10,10,3,2,25,25,35,3,54,6,0,1,1,1,2,1,7,5,2,8,55,9,0,0,1,1,0,7,1,31,116,3,35,0,0,1,0,13,6,0,29,0,1,1,0,2,4,105,4,61,3,1,4129],\"xaxis\":\"x\",\"y\":[0,0,0,1,0,0,0,0,0,0,0,0,0,0,0,46,0,0,2,0,0,2,0,0,2,1,0,0,0,0,1,0,0,0,0,0,0,0,0,0,1,0,0,1,2,0,0,0,2,0,0,1,0,0,0,0,1,2,0,2,1,0,0,0,0,0,0,1,0,0,1,1,1,0,0,0,0,0,0,0,1,1,0,0,0,0,0,0,0,0,0,0,0,0,0,0,0,0,1,0,1,0,0,76],\"yaxis\":\"y\",\"type\":\"scatter\"}],                        {\"template\":{\"data\":{\"histogram2dcontour\":[{\"type\":\"histogram2dcontour\",\"colorbar\":{\"outlinewidth\":0,\"ticks\":\"\"},\"colorscale\":[[0.0,\"#0d0887\"],[0.1111111111111111,\"#46039f\"],[0.2222222222222222,\"#7201a8\"],[0.3333333333333333,\"#9c179e\"],[0.4444444444444444,\"#bd3786\"],[0.5555555555555556,\"#d8576b\"],[0.6666666666666666,\"#ed7953\"],[0.7777777777777778,\"#fb9f3a\"],[0.8888888888888888,\"#fdca26\"],[1.0,\"#f0f921\"]]}],\"choropleth\":[{\"type\":\"choropleth\",\"colorbar\":{\"outlinewidth\":0,\"ticks\":\"\"}}],\"histogram2d\":[{\"type\":\"histogram2d\",\"colorbar\":{\"outlinewidth\":0,\"ticks\":\"\"},\"colorscale\":[[0.0,\"#0d0887\"],[0.1111111111111111,\"#46039f\"],[0.2222222222222222,\"#7201a8\"],[0.3333333333333333,\"#9c179e\"],[0.4444444444444444,\"#bd3786\"],[0.5555555555555556,\"#d8576b\"],[0.6666666666666666,\"#ed7953\"],[0.7777777777777778,\"#fb9f3a\"],[0.8888888888888888,\"#fdca26\"],[1.0,\"#f0f921\"]]}],\"heatmap\":[{\"type\":\"heatmap\",\"colorbar\":{\"outlinewidth\":0,\"ticks\":\"\"},\"colorscale\":[[0.0,\"#0d0887\"],[0.1111111111111111,\"#46039f\"],[0.2222222222222222,\"#7201a8\"],[0.3333333333333333,\"#9c179e\"],[0.4444444444444444,\"#bd3786\"],[0.5555555555555556,\"#d8576b\"],[0.6666666666666666,\"#ed7953\"],[0.7777777777777778,\"#fb9f3a\"],[0.8888888888888888,\"#fdca26\"],[1.0,\"#f0f921\"]]}],\"heatmapgl\":[{\"type\":\"heatmapgl\",\"colorbar\":{\"outlinewidth\":0,\"ticks\":\"\"},\"colorscale\":[[0.0,\"#0d0887\"],[0.1111111111111111,\"#46039f\"],[0.2222222222222222,\"#7201a8\"],[0.3333333333333333,\"#9c179e\"],[0.4444444444444444,\"#bd3786\"],[0.5555555555555556,\"#d8576b\"],[0.6666666666666666,\"#ed7953\"],[0.7777777777777778,\"#fb9f3a\"],[0.8888888888888888,\"#fdca26\"],[1.0,\"#f0f921\"]]}],\"contourcarpet\":[{\"type\":\"contourcarpet\",\"colorbar\":{\"outlinewidth\":0,\"ticks\":\"\"}}],\"contour\":[{\"type\":\"contour\",\"colorbar\":{\"outlinewidth\":0,\"ticks\":\"\"},\"colorscale\":[[0.0,\"#0d0887\"],[0.1111111111111111,\"#46039f\"],[0.2222222222222222,\"#7201a8\"],[0.3333333333333333,\"#9c179e\"],[0.4444444444444444,\"#bd3786\"],[0.5555555555555556,\"#d8576b\"],[0.6666666666666666,\"#ed7953\"],[0.7777777777777778,\"#fb9f3a\"],[0.8888888888888888,\"#fdca26\"],[1.0,\"#f0f921\"]]}],\"surface\":[{\"type\":\"surface\",\"colorbar\":{\"outlinewidth\":0,\"ticks\":\"\"},\"colorscale\":[[0.0,\"#0d0887\"],[0.1111111111111111,\"#46039f\"],[0.2222222222222222,\"#7201a8\"],[0.3333333333333333,\"#9c179e\"],[0.4444444444444444,\"#bd3786\"],[0.5555555555555556,\"#d8576b\"],[0.6666666666666666,\"#ed7953\"],[0.7777777777777778,\"#fb9f3a\"],[0.8888888888888888,\"#fdca26\"],[1.0,\"#f0f921\"]]}],\"mesh3d\":[{\"type\":\"mesh3d\",\"colorbar\":{\"outlinewidth\":0,\"ticks\":\"\"}}],\"scatter\":[{\"fillpattern\":{\"fillmode\":\"overlay\",\"size\":10,\"solidity\":0.2},\"type\":\"scatter\"}],\"parcoords\":[{\"type\":\"parcoords\",\"line\":{\"colorbar\":{\"outlinewidth\":0,\"ticks\":\"\"}}}],\"scatterpolargl\":[{\"type\":\"scatterpolargl\",\"marker\":{\"colorbar\":{\"outlinewidth\":0,\"ticks\":\"\"}}}],\"bar\":[{\"error_x\":{\"color\":\"#2a3f5f\"},\"error_y\":{\"color\":\"#2a3f5f\"},\"marker\":{\"line\":{\"color\":\"#E5ECF6\",\"width\":0.5},\"pattern\":{\"fillmode\":\"overlay\",\"size\":10,\"solidity\":0.2}},\"type\":\"bar\"}],\"scattergeo\":[{\"type\":\"scattergeo\",\"marker\":{\"colorbar\":{\"outlinewidth\":0,\"ticks\":\"\"}}}],\"scatterpolar\":[{\"type\":\"scatterpolar\",\"marker\":{\"colorbar\":{\"outlinewidth\":0,\"ticks\":\"\"}}}],\"histogram\":[{\"marker\":{\"pattern\":{\"fillmode\":\"overlay\",\"size\":10,\"solidity\":0.2}},\"type\":\"histogram\"}],\"scattergl\":[{\"type\":\"scattergl\",\"marker\":{\"colorbar\":{\"outlinewidth\":0,\"ticks\":\"\"}}}],\"scatter3d\":[{\"type\":\"scatter3d\",\"line\":{\"colorbar\":{\"outlinewidth\":0,\"ticks\":\"\"}},\"marker\":{\"colorbar\":{\"outlinewidth\":0,\"ticks\":\"\"}}}],\"scattermapbox\":[{\"type\":\"scattermapbox\",\"marker\":{\"colorbar\":{\"outlinewidth\":0,\"ticks\":\"\"}}}],\"scatterternary\":[{\"type\":\"scatterternary\",\"marker\":{\"colorbar\":{\"outlinewidth\":0,\"ticks\":\"\"}}}],\"scattercarpet\":[{\"type\":\"scattercarpet\",\"marker\":{\"colorbar\":{\"outlinewidth\":0,\"ticks\":\"\"}}}],\"carpet\":[{\"aaxis\":{\"endlinecolor\":\"#2a3f5f\",\"gridcolor\":\"white\",\"linecolor\":\"white\",\"minorgridcolor\":\"white\",\"startlinecolor\":\"#2a3f5f\"},\"baxis\":{\"endlinecolor\":\"#2a3f5f\",\"gridcolor\":\"white\",\"linecolor\":\"white\",\"minorgridcolor\":\"white\",\"startlinecolor\":\"#2a3f5f\"},\"type\":\"carpet\"}],\"table\":[{\"cells\":{\"fill\":{\"color\":\"#EBF0F8\"},\"line\":{\"color\":\"white\"}},\"header\":{\"fill\":{\"color\":\"#C8D4E3\"},\"line\":{\"color\":\"white\"}},\"type\":\"table\"}],\"barpolar\":[{\"marker\":{\"line\":{\"color\":\"#E5ECF6\",\"width\":0.5},\"pattern\":{\"fillmode\":\"overlay\",\"size\":10,\"solidity\":0.2}},\"type\":\"barpolar\"}],\"pie\":[{\"automargin\":true,\"type\":\"pie\"}]},\"layout\":{\"autotypenumbers\":\"strict\",\"colorway\":[\"#636efa\",\"#EF553B\",\"#00cc96\",\"#ab63fa\",\"#FFA15A\",\"#19d3f3\",\"#FF6692\",\"#B6E880\",\"#FF97FF\",\"#FECB52\"],\"font\":{\"color\":\"#2a3f5f\"},\"hovermode\":\"closest\",\"hoverlabel\":{\"align\":\"left\"},\"paper_bgcolor\":\"white\",\"plot_bgcolor\":\"#E5ECF6\",\"polar\":{\"bgcolor\":\"#E5ECF6\",\"angularaxis\":{\"gridcolor\":\"white\",\"linecolor\":\"white\",\"ticks\":\"\"},\"radialaxis\":{\"gridcolor\":\"white\",\"linecolor\":\"white\",\"ticks\":\"\"}},\"ternary\":{\"bgcolor\":\"#E5ECF6\",\"aaxis\":{\"gridcolor\":\"white\",\"linecolor\":\"white\",\"ticks\":\"\"},\"baxis\":{\"gridcolor\":\"white\",\"linecolor\":\"white\",\"ticks\":\"\"},\"caxis\":{\"gridcolor\":\"white\",\"linecolor\":\"white\",\"ticks\":\"\"}},\"coloraxis\":{\"colorbar\":{\"outlinewidth\":0,\"ticks\":\"\"}},\"colorscale\":{\"sequential\":[[0.0,\"#0d0887\"],[0.1111111111111111,\"#46039f\"],[0.2222222222222222,\"#7201a8\"],[0.3333333333333333,\"#9c179e\"],[0.4444444444444444,\"#bd3786\"],[0.5555555555555556,\"#d8576b\"],[0.6666666666666666,\"#ed7953\"],[0.7777777777777778,\"#fb9f3a\"],[0.8888888888888888,\"#fdca26\"],[1.0,\"#f0f921\"]],\"sequentialminus\":[[0.0,\"#0d0887\"],[0.1111111111111111,\"#46039f\"],[0.2222222222222222,\"#7201a8\"],[0.3333333333333333,\"#9c179e\"],[0.4444444444444444,\"#bd3786\"],[0.5555555555555556,\"#d8576b\"],[0.6666666666666666,\"#ed7953\"],[0.7777777777777778,\"#fb9f3a\"],[0.8888888888888888,\"#fdca26\"],[1.0,\"#f0f921\"]],\"diverging\":[[0,\"#8e0152\"],[0.1,\"#c51b7d\"],[0.2,\"#de77ae\"],[0.3,\"#f1b6da\"],[0.4,\"#fde0ef\"],[0.5,\"#f7f7f7\"],[0.6,\"#e6f5d0\"],[0.7,\"#b8e186\"],[0.8,\"#7fbc41\"],[0.9,\"#4d9221\"],[1,\"#276419\"]]},\"xaxis\":{\"gridcolor\":\"white\",\"linecolor\":\"white\",\"ticks\":\"\",\"title\":{\"standoff\":15},\"zerolinecolor\":\"white\",\"automargin\":true,\"zerolinewidth\":2},\"yaxis\":{\"gridcolor\":\"white\",\"linecolor\":\"white\",\"ticks\":\"\",\"title\":{\"standoff\":15},\"zerolinecolor\":\"white\",\"automargin\":true,\"zerolinewidth\":2},\"scene\":{\"xaxis\":{\"backgroundcolor\":\"#E5ECF6\",\"gridcolor\":\"white\",\"linecolor\":\"white\",\"showbackground\":true,\"ticks\":\"\",\"zerolinecolor\":\"white\",\"gridwidth\":2},\"yaxis\":{\"backgroundcolor\":\"#E5ECF6\",\"gridcolor\":\"white\",\"linecolor\":\"white\",\"showbackground\":true,\"ticks\":\"\",\"zerolinecolor\":\"white\",\"gridwidth\":2},\"zaxis\":{\"backgroundcolor\":\"#E5ECF6\",\"gridcolor\":\"white\",\"linecolor\":\"white\",\"showbackground\":true,\"ticks\":\"\",\"zerolinecolor\":\"white\",\"gridwidth\":2}},\"shapedefaults\":{\"line\":{\"color\":\"#2a3f5f\"}},\"annotationdefaults\":{\"arrowcolor\":\"#2a3f5f\",\"arrowhead\":0,\"arrowwidth\":1},\"geo\":{\"bgcolor\":\"white\",\"landcolor\":\"#E5ECF6\",\"subunitcolor\":\"white\",\"showland\":true,\"showlakes\":true,\"lakecolor\":\"white\"},\"title\":{\"x\":0.05},\"mapbox\":{\"style\":\"light\"}}},\"xaxis\":{\"anchor\":\"y\",\"domain\":[0.0,1.0],\"title\":{\"text\":\"Cumulative Cases Diagnosed Since 2016\"},\"type\":\"log\"},\"yaxis\":{\"anchor\":\"x\",\"domain\":[0.0,1.0],\"title\":{\"text\":\"Cases Diagnosed As Of 2\\u002f28\\u002f2023\"}},\"legend\":{\"tracegroupgap\":0},\"margin\":{\"t\":60}},                        {\"responsive\": true}                    ).then(function(){\n",
       "                            \n",
       "var gd = document.getElementById('0e4902ce-3b89-43fc-9ed5-bcb68f7d46a5');\n",
       "var x = new MutationObserver(function (mutations, observer) {{\n",
       "        var display = window.getComputedStyle(gd).display;\n",
       "        if (!display || display === 'none') {{\n",
       "            console.log([gd, 'removed!']);\n",
       "            Plotly.purge(gd);\n",
       "            observer.disconnect();\n",
       "        }}\n",
       "}});\n",
       "\n",
       "// Listen for the removal of the full notebook cells\n",
       "var notebookContainer = gd.closest('#notebook-container');\n",
       "if (notebookContainer) {{\n",
       "    x.observe(notebookContainer, {childList: true});\n",
       "}}\n",
       "\n",
       "// Listen for the clearing of the current output cell\n",
       "var outputEl = gd.closest('.output');\n",
       "if (outputEl) {{\n",
       "    x.observe(outputEl, {childList: true});\n",
       "}}\n",
       "\n",
       "                        })                };                });            </script>        </div>"
      ]
     },
     "metadata": {},
     "output_type": "display_data"
    }
   ],
   "source": [
    "# scatter plot to display outliners\n",
    "county = df1_copy['County'].head(10)\n",
    "fig = px.scatter(df1_copy, x='Cumulative Cases Diagnosed Since 2016',\n",
    "                 y='Cases Diagnosed As Of 2/28/2023', hover_name='County',log_x=True, size_max=100)\n",
    "fig.show()\n",
    "# size='County'"
   ]
  },
  {
   "cell_type": "markdown",
   "id": "7208a13a-3f0e-4ad5-a8e2-2ccffccb7067",
   "metadata": {},
   "source": [
    "# Asking A question on the data set\n",
    "- what are the County with the highest Cumulative Cases Diagnosed Since 2016"
   ]
  },
  {
   "cell_type": "code",
   "execution_count": 192,
   "id": "46f86114-1421-4f40-952c-7768178ee432",
   "metadata": {},
   "outputs": [],
   "source": [
    "dfGroup = df1_copy.groupby('County')['Cumulative Cases Diagnosed Since 2016']\\\n",
    "            .agg(['min','max']).query('max > 10').sort_values('max')['max']"
   ]
  },
  {
   "cell_type": "code",
   "execution_count": 211,
   "id": "f5535670-0338-4267-9fdb-28352abbe707",
   "metadata": {},
   "outputs": [
    {
     "data": {
      "image/png": "[encoded data removed]",
      "text/plain": [
       "<Figure size 1040x720 with 1 Axes>"
      ]
     },
     "metadata": {},
     "output_type": "display_data"
    }
   ],
   "source": [
    "fig= dfGroup.plot(kind='barh', figsize=(13, 9), title='Highest Cumulative Cases Diagnosed Since 2016')\n",
    "fig.set_title('Highest Cumulative Cases Diagnosed Since 2016',fontsize=15)\n",
    "fig.set_ylabel('County', fontsize=15)\n",
    "fig.set_xlabel('Count', fontsize=15)\n",
    "fig.tick_params(axis='x', labelsize=15)\n",
    "fig.tick_params(axis='y', labelsize=15)\n",
    "\n",
    "plt.show()"
   ]
  },
  {
   "cell_type": "markdown",
   "id": "b18c7e8c-6658-455b-b8db-e03e33388f83",
   "metadata": {},
   "source": [
    "# Highest County Aids Cases Breakdown\n",
    "- finding insight on the highest county Aids Cases Breakdown"
   ]
  },
  {
   "cell_type": "code",
   "execution_count": 225,
   "id": "1386142e-cf53-4b84-8a36-c2ce60c0ea1e",
   "metadata": {},
   "outputs": [],
   "source": [
    "df = pd.read_csv('Highest county Aids cases breakdown.csv')\n",
    "df2_copy = df.copy()"
   ]
  },
  {
   "cell_type": "code",
   "execution_count": 226,
   "id": "8ddbadcc-cd25-47e8-94fe-192ae6fffaae",
   "metadata": {},
   "outputs": [
    {
     "data": {
      "text/html": [
       "<div>\n",
       "<style scoped>\n",
       "    .dataframe tbody tr th:only-of-type {\n",
       "        vertical-align: middle;\n",
       "    }\n",
       "\n",
       "    .dataframe tbody tr th {\n",
       "        vertical-align: top;\n",
       "    }\n",
       "\n",
       "    .dataframe thead th {\n",
       "        text-align: right;\n",
       "    }\n",
       "</style>\n",
       "<table border=\"1\" class=\"dataframe\">\n",
       "  <thead>\n",
       "    <tr style=\"text-align: right;\">\n",
       "      <th></th>\n",
       "      <th>Health Department</th>\n",
       "      <th>Cases Diagnosed As Of 2/28/2023</th>\n",
       "      <th>Cumulative Cases Diagnosed Since 2016</th>\n",
       "    </tr>\n",
       "  </thead>\n",
       "  <tbody>\n",
       "    <tr>\n",
       "      <th>0</th>\n",
       "      <td>Chicago Health Dept.</td>\n",
       "      <td>40</td>\n",
       "      <td>2177</td>\n",
       "    </tr>\n",
       "    <tr>\n",
       "      <th>1</th>\n",
       "      <td>Cook Co. Health Dept.</td>\n",
       "      <td>6</td>\n",
       "      <td>677</td>\n",
       "    </tr>\n",
       "    <tr>\n",
       "      <th>2</th>\n",
       "      <td>Evanston Health Dept.</td>\n",
       "      <td>0</td>\n",
       "      <td>21</td>\n",
       "    </tr>\n",
       "    <tr>\n",
       "      <th>3</th>\n",
       "      <td>Oak Park Health Dept.</td>\n",
       "      <td>0</td>\n",
       "      <td>13</td>\n",
       "    </tr>\n",
       "    <tr>\n",
       "      <th>4</th>\n",
       "      <td>Skokie Health Dept.</td>\n",
       "      <td>0</td>\n",
       "      <td>10</td>\n",
       "    </tr>\n",
       "  </tbody>\n",
       "</table>\n",
       "</div>"
      ],
      "text/plain": [
       "       Health Department  Cases Diagnosed As Of 2/28/2023  \\\n",
       "0   Chicago Health Dept.                               40   \n",
       "1  Cook Co. Health Dept.                                6   \n",
       "2  Evanston Health Dept.                                0   \n",
       "3  Oak Park Health Dept.                                0   \n",
       "4    Skokie Health Dept.                                0   \n",
       "\n",
       "   Cumulative Cases Diagnosed Since 2016  \n",
       "0                                   2177  \n",
       "1                                    677  \n",
       "2                                     21  \n",
       "3                                     13  \n",
       "4                                     10  "
      ]
     },
     "execution_count": 226,
     "metadata": {},
     "output_type": "execute_result"
    }
   ],
   "source": [
    "df2_copy"
   ]
  },
  {
   "cell_type": "code",
   "execution_count": 251,
   "id": "3ce20b17-965f-467a-aa13-d0c6356871fd",
   "metadata": {},
   "outputs": [
    {
     "data": {
      "image/png": "[encoded data removed]",
      "text/plain": [
       "<Figure size 640x440 with 1 Axes>"
      ]
     },
     "metadata": {},
     "output_type": "display_data"
    }
   ],
   "source": [
    "# Cumulative Cases Diagnosed Since 2016 Distribution\n",
    "ax = df2_copy['Cumulative Cases Diagnosed Since 2016'].plot(kind='kde',\n",
    "                                                       title='Cumulative Cases Diagnosed Since 2016', linewidth=2,color='red')\n",
    "ax.set_title('Cumulative Cases Diagnosed Since 2016', fontsize=15)\n",
    "ax.set_xlabel('Cumulative Cases', fontsize=15)\n",
    "ax.set_ylabel('Density', fontsize=15)\n",
    "ax.tick_params(axis='x', labelsize=15)\n",
    "ax.tick_params(axis='y', labelsize=15)"
   ]
  },
  {
   "cell_type": "code",
   "execution_count": 252,
   "id": "608e7861-5b7a-4d7c-baff-940a97be6cfa",
   "metadata": {},
   "outputs": [
    {
     "data": {
      "image/png": "[encoded data removed]",
      "text/plain": [
       "<Figure size 640x440 with 1 Axes>"
      ]
     },
     "metadata": {},
     "output_type": "display_data"
    }
   ],
   "source": [
    "ax = df2_copy['Cases Diagnosed As Of 2/28/2023'].plot(kind='kde',\n",
    "                                                       title='Cases Diagnosed As Of 2/28/2023', linewidth=2,color='red')\n",
    "ax.set_title('Cases Diagnosed As Of 2/28/2023', fontsize=15)\n",
    "ax.set_xlabel('Cumulative Cases', fontsize=15)\n",
    "ax.set_ylabel('Density', fontsize=15)\n",
    "ax.tick_params(axis='x', labelsize=15)\n",
    "ax.tick_params(axis='y', labelsize=15)"
   ]
  },
  {
   "cell_type": "code",
   "execution_count": 277,
   "id": "96fe9c1e-490e-423f-bbb9-8cc89f875e36",
   "metadata": {},
   "outputs": [],
   "source": [
    "# barchart for the group column\n",
    "df2_copyGrouped = df2_copy.groupby('Health Department')['Cumulative Cases Diagnosed Since 2016']\\\n",
    "                    .agg(['min', 'max']).sort_values('max')['max']"
   ]
  },
  {
   "cell_type": "code",
   "execution_count": 283,
   "id": "83568954-d831-40f9-a4a9-f8d529c9e690",
   "metadata": {},
   "outputs": [
    {
     "data": {
      "image/png": "[encoded data removed]",
      "text/plain": [
       "<Figure size 640x440 with 1 Axes>"
      ]
     },
     "metadata": {},
     "output_type": "display_data"
    }
   ],
   "source": [
    "ax = df2_copyGrouped.plot(kind='barh', title='Max Cumulative Cases Diagnosed Since 2016')\n",
    "ax.set_title('Max Cumulative Cases Diagnosed Since 2016', fontsize=15)\n",
    "ax.set_ylabel('Health Department', fontsize=15)\n",
    "ax.set_xlabel('Max Cumulative Cases Diagnosed Since 2016', fontsize=15)\n",
    "\n",
    "ax.tick_params(axis='x', labelsize=15)\n",
    "ax.tick_params(axis='y', labelsize=15)\n",
    "\n",
    "plt.show()"
   ]
  },
  {
   "cell_type": "code",
   "execution_count": null,
   "id": "46946e76-d10a-4de5-a199-ec7462cdebaf",
   "metadata": {},
   "outputs": [],
   "source": []
  },
  {
   "cell_type": "code",
   "execution_count": 14,
   "id": "9ce6d844-2f66-4391-9ac3-43b75dd1521b",
   "metadata": {},
   "outputs": [],
   "source": [
    "# joining diffrent datasets\n",
    "data = pd.read_csv('/Users/briankimanzi/Documents/python /webscraping/February_2023_Hiv_surveillance_update_report.csv')\n",
    "data2 = pd.read_csv('Aids_Incident_Cases_In_Illinois.csv')\n",
    "dataMerge = pd.merge(data, data2, on='County', how='outer')\n",
    "dataMerge.to_csv('Hiv & Aids incident Cases.csv')"
   ]
  },
  {
   "cell_type": "code",
   "execution_count": 260,
   "id": "8a7dc44e-be19-4c54-b2b1-87cf483eeb10",
   "metadata": {},
   "outputs": [
    {
     "data": {
      "text/plain": [
       "['Solarize_Light2',\n",
       " '_classic_test_patch',\n",
       " '_mpl-gallery',\n",
       " '_mpl-gallery-nogrid',\n",
       " 'bmh',\n",
       " 'classic',\n",
       " 'dark_background',\n",
       " 'fast',\n",
       " 'fivethirtyeight',\n",
       " 'ggplot',\n",
       " 'grayscale',\n",
       " 'seaborn-v0_8',\n",
       " 'seaborn-v0_8-bright',\n",
       " 'seaborn-v0_8-colorblind',\n",
       " 'seaborn-v0_8-dark',\n",
       " 'seaborn-v0_8-dark-palette',\n",
       " 'seaborn-v0_8-darkgrid',\n",
       " 'seaborn-v0_8-deep',\n",
       " 'seaborn-v0_8-muted',\n",
       " 'seaborn-v0_8-notebook',\n",
       " 'seaborn-v0_8-paper',\n",
       " 'seaborn-v0_8-pastel',\n",
       " 'seaborn-v0_8-poster',\n",
       " 'seaborn-v0_8-talk',\n",
       " 'seaborn-v0_8-ticks',\n",
       " 'seaborn-v0_8-white',\n",
       " 'seaborn-v0_8-whitegrid',\n",
       " 'tableau-colorblind10']"
      ]
     },
     "execution_count": 260,
     "metadata": {},
     "output_type": "execute_result"
    }
   ],
   "source": [
    "plt.style.available"
   ]
  },
  {
   "cell_type": "code",
   "execution_count": null,
   "id": "22c73ed0-70c2-4d46-9cc8-c63e1869f8f8",
   "metadata": {},
   "outputs": [],
   "source": [
    "dataMerge.to_csv('Merged Dataset Cases Diagnose.csv')"
   ]
  }
 ],
 "metadata": {
  "kernelspec": {
   "display_name": "Python 3 (ipykernel)",
   "language": "python",
   "name": "python3"
  },
  "language_info": {
   "codemirror_mode": {
    "name": "ipython",
    "version": 3
   },
   "file_extension": ".py",
   "mimetype": "text/x-python",
   "name": "python",
   "nbconvert_exporter": "python",
   "pygments_lexer": "ipython3",
   "version": "3.12.6"
  }
 },
 "nbformat": 4,
 "nbformat_minor": 5
}
